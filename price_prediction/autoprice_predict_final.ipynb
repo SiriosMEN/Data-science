{
  "nbformat": 4,
  "nbformat_minor": 0,
  "metadata": {
    "kernelspec": {
      "display_name": "Python 3",
      "language": "python",
      "name": "python3"
    },
    "language_info": {
      "codemirror_mode": {
        "name": "ipython",
        "version": 3
      },
      "file_extension": ".py",
      "mimetype": "text/x-python",
      "name": "python",
      "nbconvert_exporter": "python",
      "pygments_lexer": "ipython3",
      "version": "3.7.8"
    },
    "toc": {
      "base_numbering": 1,
      "nav_menu": {},
      "number_sections": true,
      "sideBar": true,
      "skip_h1_title": true,
      "title_cell": "Table of Contents",
      "title_sidebar": "Contents",
      "toc_cell": false,
      "toc_position": {},
      "toc_section_display": true,
      "toc_window_display": false
    },
    "colab": {
      "name": "autoprice_predict_final.ipynb",
      "provenance": [],
      "include_colab_link": true
    }
  },
  "cells": [
    {
      "cell_type": "markdown",
      "metadata": {
        "id": "view-in-github",
        "colab_type": "text"
      },
      "source": [
        "<a href=\"https://colab.research.google.com/github/SiriosMEN/Data-science/blob/main/price_prediction/autoprice_predict_final.ipynb\" target=\"_parent\"><img src=\"https://colab.research.google.com/assets/colab-badge.svg\" alt=\"Open In Colab\"/></a>"
      ]
    },
    {
      "cell_type": "markdown",
      "metadata": {
        "id": "KTnwgmCeRrYF"
      },
      "source": [
        "# Определение стоимости автомобилей"
      ]
    },
    {
      "cell_type": "markdown",
      "metadata": {
        "id": "XrCofSbDRrYF"
      },
      "source": [
        "Сервис по продаже автомобилей с пробегом «Не бит, не крашен» разрабатывает приложение для привлечения новых клиентов. В нём можно быстро узнать рыночную стоимость своего автомобиля. В вашем распоряжении исторические данные: технические характеристики, комплектации и цены автомобилей. Вам нужно построить модель для определения стоимости. \n",
        "\n",
        "Заказчику важны:\n",
        "\n",
        "- качество предсказания;\n",
        "- скорость предсказания;\n",
        "- время обучения."
      ]
    },
    {
      "cell_type": "markdown",
      "metadata": {
        "id": "ruvCxbaARrYG"
      },
      "source": [
        "## Подготовка данных"
      ]
    },
    {
      "cell_type": "code",
      "metadata": {
        "id": "a6Ar3iNSRrYG"
      },
      "source": [
        "import pandas as pd\n",
        "import numpy as np\n",
        "import matplotlib.pyplot as plt\n",
        "import time\n",
        "from sklearn.model_selection import train_test_split\n",
        "from sklearn.model_selection import GridSearchCV\n",
        "from catboost import CatBoostRegressor,CatBoostClassifier,CatBoost\n",
        "from sklearn.linear_model import LinearRegression\n",
        "from sklearn.preprocessing import OrdinalEncoder\n",
        "from sklearn.metrics import mean_squared_error\n",
        "from sklearn.ensemble import RandomForestRegressor\n",
        "from lightgbm import LGBMRegressor"
      ],
      "execution_count": null,
      "outputs": []
    },
    {
      "cell_type": "markdown",
      "metadata": {
        "id": "GNNtrCXNRrYI"
      },
      "source": [
        "Загрузим данные датасета:"
      ]
    },
    {
      "cell_type": "code",
      "metadata": {
        "scrolled": true,
        "id": "KHmJ0cZzRrYI",
        "outputId": "19cf1b63-b9e3-4453-cba9-5fb874be9662"
      },
      "source": [
        "data = pd.read_csv('/datasets/autos.csv')\n",
        "data.info()\n",
        "data.head()"
      ],
      "execution_count": null,
      "outputs": [
        {
          "name": "stdout",
          "output_type": "stream",
          "text": [
            "<class 'pandas.core.frame.DataFrame'>\n",
            "RangeIndex: 354369 entries, 0 to 354368\n",
            "Data columns (total 16 columns):\n",
            "DateCrawled          354369 non-null object\n",
            "Price                354369 non-null int64\n",
            "VehicleType          316879 non-null object\n",
            "RegistrationYear     354369 non-null int64\n",
            "Gearbox              334536 non-null object\n",
            "Power                354369 non-null int64\n",
            "Model                334664 non-null object\n",
            "Kilometer            354369 non-null int64\n",
            "RegistrationMonth    354369 non-null int64\n",
            "FuelType             321474 non-null object\n",
            "Brand                354369 non-null object\n",
            "NotRepaired          283215 non-null object\n",
            "DateCreated          354369 non-null object\n",
            "NumberOfPictures     354369 non-null int64\n",
            "PostalCode           354369 non-null int64\n",
            "LastSeen             354369 non-null object\n",
            "dtypes: int64(7), object(9)\n",
            "memory usage: 43.3+ MB\n"
          ]
        },
        {
          "data": {
            "text/html": [
              "<div>\n",
              "<style scoped>\n",
              "    .dataframe tbody tr th:only-of-type {\n",
              "        vertical-align: middle;\n",
              "    }\n",
              "\n",
              "    .dataframe tbody tr th {\n",
              "        vertical-align: top;\n",
              "    }\n",
              "\n",
              "    .dataframe thead th {\n",
              "        text-align: right;\n",
              "    }\n",
              "</style>\n",
              "<table border=\"1\" class=\"dataframe\">\n",
              "  <thead>\n",
              "    <tr style=\"text-align: right;\">\n",
              "      <th></th>\n",
              "      <th>DateCrawled</th>\n",
              "      <th>Price</th>\n",
              "      <th>VehicleType</th>\n",
              "      <th>RegistrationYear</th>\n",
              "      <th>Gearbox</th>\n",
              "      <th>Power</th>\n",
              "      <th>Model</th>\n",
              "      <th>Kilometer</th>\n",
              "      <th>RegistrationMonth</th>\n",
              "      <th>FuelType</th>\n",
              "      <th>Brand</th>\n",
              "      <th>NotRepaired</th>\n",
              "      <th>DateCreated</th>\n",
              "      <th>NumberOfPictures</th>\n",
              "      <th>PostalCode</th>\n",
              "      <th>LastSeen</th>\n",
              "    </tr>\n",
              "  </thead>\n",
              "  <tbody>\n",
              "    <tr>\n",
              "      <td>0</td>\n",
              "      <td>2016-03-24 11:52:17</td>\n",
              "      <td>480</td>\n",
              "      <td>NaN</td>\n",
              "      <td>1993</td>\n",
              "      <td>manual</td>\n",
              "      <td>0</td>\n",
              "      <td>golf</td>\n",
              "      <td>150000</td>\n",
              "      <td>0</td>\n",
              "      <td>petrol</td>\n",
              "      <td>volkswagen</td>\n",
              "      <td>NaN</td>\n",
              "      <td>2016-03-24 00:00:00</td>\n",
              "      <td>0</td>\n",
              "      <td>70435</td>\n",
              "      <td>2016-04-07 03:16:57</td>\n",
              "    </tr>\n",
              "    <tr>\n",
              "      <td>1</td>\n",
              "      <td>2016-03-24 10:58:45</td>\n",
              "      <td>18300</td>\n",
              "      <td>coupe</td>\n",
              "      <td>2011</td>\n",
              "      <td>manual</td>\n",
              "      <td>190</td>\n",
              "      <td>NaN</td>\n",
              "      <td>125000</td>\n",
              "      <td>5</td>\n",
              "      <td>gasoline</td>\n",
              "      <td>audi</td>\n",
              "      <td>yes</td>\n",
              "      <td>2016-03-24 00:00:00</td>\n",
              "      <td>0</td>\n",
              "      <td>66954</td>\n",
              "      <td>2016-04-07 01:46:50</td>\n",
              "    </tr>\n",
              "    <tr>\n",
              "      <td>2</td>\n",
              "      <td>2016-03-14 12:52:21</td>\n",
              "      <td>9800</td>\n",
              "      <td>suv</td>\n",
              "      <td>2004</td>\n",
              "      <td>auto</td>\n",
              "      <td>163</td>\n",
              "      <td>grand</td>\n",
              "      <td>125000</td>\n",
              "      <td>8</td>\n",
              "      <td>gasoline</td>\n",
              "      <td>jeep</td>\n",
              "      <td>NaN</td>\n",
              "      <td>2016-03-14 00:00:00</td>\n",
              "      <td>0</td>\n",
              "      <td>90480</td>\n",
              "      <td>2016-04-05 12:47:46</td>\n",
              "    </tr>\n",
              "    <tr>\n",
              "      <td>3</td>\n",
              "      <td>2016-03-17 16:54:04</td>\n",
              "      <td>1500</td>\n",
              "      <td>small</td>\n",
              "      <td>2001</td>\n",
              "      <td>manual</td>\n",
              "      <td>75</td>\n",
              "      <td>golf</td>\n",
              "      <td>150000</td>\n",
              "      <td>6</td>\n",
              "      <td>petrol</td>\n",
              "      <td>volkswagen</td>\n",
              "      <td>no</td>\n",
              "      <td>2016-03-17 00:00:00</td>\n",
              "      <td>0</td>\n",
              "      <td>91074</td>\n",
              "      <td>2016-03-17 17:40:17</td>\n",
              "    </tr>\n",
              "    <tr>\n",
              "      <td>4</td>\n",
              "      <td>2016-03-31 17:25:20</td>\n",
              "      <td>3600</td>\n",
              "      <td>small</td>\n",
              "      <td>2008</td>\n",
              "      <td>manual</td>\n",
              "      <td>69</td>\n",
              "      <td>fabia</td>\n",
              "      <td>90000</td>\n",
              "      <td>7</td>\n",
              "      <td>gasoline</td>\n",
              "      <td>skoda</td>\n",
              "      <td>no</td>\n",
              "      <td>2016-03-31 00:00:00</td>\n",
              "      <td>0</td>\n",
              "      <td>60437</td>\n",
              "      <td>2016-04-06 10:17:21</td>\n",
              "    </tr>\n",
              "  </tbody>\n",
              "</table>\n",
              "</div>"
            ],
            "text/plain": [
              "           DateCrawled  Price VehicleType  RegistrationYear Gearbox  Power  \\\n",
              "0  2016-03-24 11:52:17    480         NaN              1993  manual      0   \n",
              "1  2016-03-24 10:58:45  18300       coupe              2011  manual    190   \n",
              "2  2016-03-14 12:52:21   9800         suv              2004    auto    163   \n",
              "3  2016-03-17 16:54:04   1500       small              2001  manual     75   \n",
              "4  2016-03-31 17:25:20   3600       small              2008  manual     69   \n",
              "\n",
              "   Model  Kilometer  RegistrationMonth  FuelType       Brand NotRepaired  \\\n",
              "0   golf     150000                  0    petrol  volkswagen         NaN   \n",
              "1    NaN     125000                  5  gasoline        audi         yes   \n",
              "2  grand     125000                  8  gasoline        jeep         NaN   \n",
              "3   golf     150000                  6    petrol  volkswagen          no   \n",
              "4  fabia      90000                  7  gasoline       skoda          no   \n",
              "\n",
              "           DateCreated  NumberOfPictures  PostalCode             LastSeen  \n",
              "0  2016-03-24 00:00:00                 0       70435  2016-04-07 03:16:57  \n",
              "1  2016-03-24 00:00:00                 0       66954  2016-04-07 01:46:50  \n",
              "2  2016-03-14 00:00:00                 0       90480  2016-04-05 12:47:46  \n",
              "3  2016-03-17 00:00:00                 0       91074  2016-03-17 17:40:17  \n",
              "4  2016-03-31 00:00:00                 0       60437  2016-04-06 10:17:21  "
            ]
          },
          "execution_count": 2,
          "metadata": {},
          "output_type": "execute_result"
        }
      ]
    },
    {
      "cell_type": "code",
      "metadata": {
        "id": "MCjnUEeCRrYJ"
      },
      "source": [
        "data = data.drop_duplicates()"
      ],
      "execution_count": null,
      "outputs": []
    },
    {
      "cell_type": "markdown",
      "metadata": {
        "id": "h2EjB6KSRrYK"
      },
      "source": [
        "Признак 'PostalCode' является признаком региона, однако он представлен целочисленными данными. Для корректности отнесем его также к категориальным признакам."
      ]
    },
    {
      "cell_type": "markdown",
      "metadata": {
        "id": "5WCobgQmRrYK"
      },
      "source": [
        "<div class=\"alert alert-block alert-info\">\n",
        "<b>Комментарий студента:</b> \n",
        "Проверим какие значения принимает признак PostalCode\n",
        "</div>"
      ]
    },
    {
      "cell_type": "code",
      "metadata": {
        "id": "_o_5rsk3RrYL",
        "outputId": "1d1f8b8e-3ce3-4b78-9625-d7b3b7cf65b0"
      },
      "source": [
        "len(data['PostalCode'].unique())"
      ],
      "execution_count": null,
      "outputs": [
        {
          "data": {
            "text/plain": [
              "8143"
            ]
          },
          "execution_count": 4,
          "metadata": {},
          "output_type": "execute_result"
        }
      ]
    },
    {
      "cell_type": "code",
      "metadata": {
        "scrolled": false,
        "id": "m_NxR0VNRrYL",
        "outputId": "7fc2556e-96d3-4120-f27a-01cffad1b578"
      },
      "source": [
        "data['PostalCode'].value_counts().plot(kind='hist',bins=100)"
      ],
      "execution_count": null,
      "outputs": [
        {
          "data": {
            "text/plain": [
              "<matplotlib.axes._subplots.AxesSubplot at 0x7f970d509050>"
            ]
          },
          "execution_count": 5,
          "metadata": {},
          "output_type": "execute_result"
        },
        {
          "data": {
            "image/png": "[encoded data removed]",
            "text/plain": [
              "<Figure size 432x288 with 1 Axes>"
            ]
          },
          "metadata": {
            "needs_background": "light"
          },
          "output_type": "display_data"
        }
      ]
    },
    {
      "cell_type": "markdown",
      "metadata": {
        "id": "SpMKNojqRrYM"
      },
      "source": [
        "Признак принимает 8143 уникальных значений, из них подавляющее большинство встречается по нескольку раз. Возможно, если бы у нас был доступ к значениям этих почтовых кодов для того, чтобы объединить их по большим регионам, такой признак был бы важен при обучении моделей. В нашем случае удалим данный признак."
      ]
    },
    {
      "cell_type": "code",
      "metadata": {
        "id": "1PP-iSBuRrYM"
      },
      "source": [
        "data=data.drop(['PostalCode'],axis='columns')"
      ],
      "execution_count": null,
      "outputs": []
    },
    {
      "cell_type": "markdown",
      "metadata": {
        "id": "tb8vPzODRrYN"
      },
      "source": [
        "Признаки с датами вряд ли влияют на предсказание стоимости автомобиля, дата создания анкеты, дата скачивания анкеты из базы и дата последней активности могут быть удалены:"
      ]
    },
    {
      "cell_type": "code",
      "metadata": {
        "id": "ayrUaXHNRrYN"
      },
      "source": [
        "data=data.drop(['DateCrawled','DateCreated','LastSeen'],axis='columns')"
      ],
      "execution_count": null,
      "outputs": []
    },
    {
      "cell_type": "markdown",
      "metadata": {
        "id": "7tc7MlnGRrYO"
      },
      "source": [
        "Колонка с количеством фотографий вызывает некоторые сомнения, проверим ее содержание:"
      ]
    },
    {
      "cell_type": "code",
      "metadata": {
        "scrolled": true,
        "id": "zmu10kBtRrYO",
        "outputId": "be460c68-2632-4bff-8526-b3f058d66fb3"
      },
      "source": [
        "data['NumberOfPictures'].describe()"
      ],
      "execution_count": null,
      "outputs": [
        {
          "data": {
            "text/plain": [
              "count    354365.0\n",
              "mean          0.0\n",
              "std           0.0\n",
              "min           0.0\n",
              "25%           0.0\n",
              "50%           0.0\n",
              "75%           0.0\n",
              "max           0.0\n",
              "Name: NumberOfPictures, dtype: float64"
            ]
          },
          "execution_count": 8,
          "metadata": {},
          "output_type": "execute_result"
        }
      ]
    },
    {
      "cell_type": "markdown",
      "metadata": {
        "id": "ep3O2yPhRrYO"
      },
      "source": [
        "Признак содержит только нулевые значения. Данный признак также должен быть удален, поскольку модель, обученная на нулевых значениях не сможет сделать корректное предсказание с учетом данного признака:"
      ]
    },
    {
      "cell_type": "code",
      "metadata": {
        "id": "snfNew9aRrYP"
      },
      "source": [
        "data = data.drop(['NumberOfPictures'],axis='columns')"
      ],
      "execution_count": null,
      "outputs": []
    },
    {
      "cell_type": "code",
      "metadata": {
        "id": "PVdFGB_8RrYP"
      },
      "source": [
        "data = data.fillna(value='NotDef')"
      ],
      "execution_count": null,
      "outputs": []
    },
    {
      "cell_type": "code",
      "metadata": {
        "scrolled": false,
        "id": "7Lqvw9HkRrYR",
        "outputId": "e9c14865-39e5-4223-8d2e-31528f0f97ec"
      },
      "source": [
        "plt.hist(data['Price'],bins=100);"
      ],
      "execution_count": null,
      "outputs": [
        {
          "data": {
            "image/png": "[encoded data removed]",
            "text/plain": [
              "<Figure size 432x288 with 1 Axes>"
            ]
          },
          "metadata": {
            "needs_background": "light"
          },
          "output_type": "display_data"
        }
      ]
    },
    {
      "cell_type": "markdown",
      "metadata": {
        "id": "UxfgeHQCRrYR"
      },
      "source": [
        "Целевой признак цены принимает нулевое значение, что нелогично. Проверим сколько таких строк:"
      ]
    },
    {
      "cell_type": "code",
      "metadata": {
        "scrolled": true,
        "id": "RV7lCiAtRrYR",
        "outputId": "3c61b717-3b3a-4380-beef-7beff3b8ce25"
      },
      "source": [
        "data.query('Price==0').count()"
      ],
      "execution_count": null,
      "outputs": [
        {
          "data": {
            "text/plain": [
              "Price                10772\n",
              "VehicleType          10772\n",
              "RegistrationYear     10772\n",
              "Gearbox              10772\n",
              "Power                10772\n",
              "Model                10772\n",
              "Kilometer            10772\n",
              "RegistrationMonth    10772\n",
              "FuelType             10772\n",
              "Brand                10772\n",
              "NotRepaired          10772\n",
              "dtype: int64"
            ]
          },
          "execution_count": 12,
          "metadata": {},
          "output_type": "execute_result"
        }
      ]
    },
    {
      "cell_type": "markdown",
      "metadata": {
        "id": "CVV4VZ4oRrYS"
      },
      "source": [
        "Довольно много таких строк. Заменять нулевые значения целевого признака какими-то средними или медианными значениями на мой взгляд некорректно, это приведет к ухудшению обучения моделей. Удалим строки с околонулевыми значениями цены:"
      ]
    },
    {
      "cell_type": "code",
      "metadata": {
        "id": "T8GY-VVsRrYS"
      },
      "source": [
        "data.query('Price>10',inplace=True)"
      ],
      "execution_count": null,
      "outputs": []
    },
    {
      "cell_type": "markdown",
      "metadata": {
        "id": "MaLa03dsRrYS"
      },
      "source": [
        "Проверим, есть ли аномальные значения года выпуска:"
      ]
    },
    {
      "cell_type": "code",
      "metadata": {
        "scrolled": true,
        "id": "G6z0sy9URrYT",
        "outputId": "ec1de85b-dbf5-451b-8173-809dd1f3061b"
      },
      "source": [
        "data.query('1900<RegistrationYear>2021').count()"
      ],
      "execution_count": null,
      "outputs": [
        {
          "data": {
            "text/plain": [
              "Price                82\n",
              "VehicleType          82\n",
              "RegistrationYear     82\n",
              "Gearbox              82\n",
              "Power                82\n",
              "Model                82\n",
              "Kilometer            82\n",
              "RegistrationMonth    82\n",
              "FuelType             82\n",
              "Brand                82\n",
              "NotRepaired          82\n",
              "dtype: int64"
            ]
          },
          "execution_count": 14,
          "metadata": {},
          "output_type": "execute_result"
        }
      ]
    },
    {
      "cell_type": "markdown",
      "metadata": {
        "id": "R9ckGC6YRrYT"
      },
      "source": [
        "Удалим некорректные значения:"
      ]
    },
    {
      "cell_type": "code",
      "metadata": {
        "id": "sNZsPY63RrYT"
      },
      "source": [
        "data.query('2021>RegistrationYear>1900',inplace=True)"
      ],
      "execution_count": null,
      "outputs": []
    },
    {
      "cell_type": "code",
      "metadata": {
        "scrolled": true,
        "id": "6fp1i_PcRrYT",
        "outputId": "6562a4f8-eeb4-439c-c38e-1401f82e60a8"
      },
      "source": [
        "plt.boxplot(data['Power']);"
      ],
      "execution_count": null,
      "outputs": [
        {
          "data": {
            "image/png": "[encoded data removed]",
            "text/plain": [
              "<Figure size 432x288 with 1 Axes>"
            ]
          },
          "metadata": {
            "needs_background": "light"
          },
          "output_type": "display_data"
        }
      ]
    },
    {
      "cell_type": "markdown",
      "metadata": {
        "id": "h7TQ7a7wRrYU"
      },
      "source": [
        "Имеется значительное количество выбросов в некорректных значениях. Удалим явно некорректные значения:"
      ]
    },
    {
      "cell_type": "code",
      "metadata": {
        "id": "DIgEd1zdRrYU"
      },
      "source": [
        "data.query('0<Power<1000',inplace=True)"
      ],
      "execution_count": null,
      "outputs": []
    },
    {
      "cell_type": "markdown",
      "metadata": {
        "id": "2o5G0w2cRrYU"
      },
      "source": [
        "Проверим значения признака 'Kilometer':"
      ]
    },
    {
      "cell_type": "code",
      "metadata": {
        "scrolled": true,
        "id": "waLZUA6FRrYU",
        "outputId": "9071098b-3c28-401a-b634-ab22b86bf8ba"
      },
      "source": [
        "data['Kilometer'].describe()"
      ],
      "execution_count": null,
      "outputs": [
        {
          "data": {
            "text/plain": [
              "count    306163.000000\n",
              "mean     128417.819919\n",
              "std       36716.317489\n",
              "min        5000.000000\n",
              "25%      125000.000000\n",
              "50%      150000.000000\n",
              "75%      150000.000000\n",
              "max      150000.000000\n",
              "Name: Kilometer, dtype: float64"
            ]
          },
          "execution_count": 18,
          "metadata": {},
          "output_type": "execute_result"
        }
      ]
    },
    {
      "cell_type": "markdown",
      "metadata": {
        "id": "JI50eao9RrYV"
      },
      "source": [
        "Похоже, что выбросы отсутствуют."
      ]
    },
    {
      "cell_type": "markdown",
      "metadata": {
        "id": "oPHmaLM6RrYV"
      },
      "source": [
        "Проверим признак 'RegistrationMonth':"
      ]
    },
    {
      "cell_type": "code",
      "metadata": {
        "scrolled": false,
        "id": "hzmNAyHzRrYV",
        "outputId": "cf5cc5d7-4a04-4a83-a2ea-4385cb399979"
      },
      "source": [
        "data['RegistrationMonth'].value_counts()"
      ],
      "execution_count": null,
      "outputs": [
        {
          "data": {
            "text/plain": [
              "3     31308\n",
              "6     28420\n",
              "4     26565\n",
              "5     26355\n",
              "7     24541\n",
              "10    23593\n",
              "12    21869\n",
              "11    21689\n",
              "9     21515\n",
              "1     20754\n",
              "8     20323\n",
              "0     19855\n",
              "2     19376\n",
              "Name: RegistrationMonth, dtype: int64"
            ]
          },
          "execution_count": 19,
          "metadata": {},
          "output_type": "execute_result"
        }
      ]
    },
    {
      "cell_type": "markdown",
      "metadata": {
        "id": "aovY6XS3RrYW"
      },
      "source": [
        "Выбросы отсутствуют, но есть ряд строк с нулевым значением. Думаю для предсказаний это не окажет значительного влияния."
      ]
    },
    {
      "cell_type": "markdown",
      "metadata": {
        "id": "GiPP18pPRrYW"
      },
      "source": [
        "Составим список категориальных признаков:"
      ]
    },
    {
      "cell_type": "code",
      "metadata": {
        "id": "oAq-udh0RrYW"
      },
      "source": [
        "cat_features = ['VehicleType','Gearbox','Model','FuelType','Brand','NotRepaired']"
      ],
      "execution_count": null,
      "outputs": []
    },
    {
      "cell_type": "markdown",
      "metadata": {
        "id": "DYyAsMTdRrYX"
      },
      "source": [
        "Проверим категориальные признаки:"
      ]
    },
    {
      "cell_type": "code",
      "metadata": {
        "scrolled": true,
        "id": "wSbifGurRrYX",
        "outputId": "06a41a83-d788-4de2-dec6-2c48eed1fb9b"
      },
      "source": [
        "for i in range(len(cat_features)):\n",
        "    print(cat_features[i],data[cat_features[i]].unique())"
      ],
      "execution_count": null,
      "outputs": [
        {
          "name": "stdout",
          "output_type": "stream",
          "text": [
            "VehicleType ['coupe' 'suv' 'small' 'sedan' 'convertible' 'bus' 'wagon' 'NotDef'\n",
            " 'other']\n",
            "Gearbox ['manual' 'auto' 'NotDef']\n",
            "Model ['NotDef' 'grand' 'golf' 'fabia' '3er' '2_reihe' 'c_max' '3_reihe'\n",
            " 'passat' 'navara' 'polo' 'twingo' 'a_klasse' 'scirocco' '5er' 'meriva'\n",
            " 'arosa' 'other' 'c4' 'civic' 'transporter' 'punto' 'e_klasse' 'clio'\n",
            " 'kadett' 'one' 'fortwo' '1er' 'b_klasse' 'a8' 'jetta' 'astra' 'fiesta'\n",
            " 'c_klasse' 'micra' 'vito' 'sprinter' '156' 'escort' 'forester' 'xc_reihe'\n",
            " 'scenic' 'ka' 'a1' 'focus' 'a4' 'tt' 'a6' 'jazz' 'omega' 'slk' '7er'\n",
            " 'combo' 'corsa' '80' '147' 'z_reihe' 'sportage' 'sorento' 'ibiza'\n",
            " 'mustang' 'eos' 'touran' 'getz' 'insignia' 'almera' 'megane' 'a3' 'lupo'\n",
            " 'r19' 'caddy' 'mondeo' 'cordoba' 'colt' 'impreza' 'vectra' 'berlingo'\n",
            " 'tiguan' 'i_reihe' '6_reihe' 'panda' 'up' 'ceed' 'kangoo' '5_reihe'\n",
            " 'yeti' 'octavia' 'zafira' 'mii' 'rx_reihe' '6er' 'modus' 'fox' 'matiz'\n",
            " 'beetle' 'rio' 'touareg' 'logan' 'spider' 'cuore' 's_max' 'a2' 'galaxy'\n",
            " 'c3' 'viano' 's_klasse' '1_reihe' 'sharan' 'avensis' 'roomster' 'sl'\n",
            " 'kaefer' 'santa' 'leon' 'cooper' '4_reihe' 'a5' 'laguna' 'ptcruiser'\n",
            " 'clk' 'primera' 'espace' 'exeo' '159' 'transit' 'juke' 'x_reihe' 'v40'\n",
            " 'carisma' 'accord' 'corolla' 'lanos' 'phaeton' 'verso' 'swift' 'rav'\n",
            " 'qashqai' 'picanto' 'boxster' 'superb' 'stilo' 'alhambra' 'roadster'\n",
            " 'ypsilon' 'galant' 'justy' '90' 'sirion' 'signum' 'crossfire' 'agila'\n",
            " 'duster' 'v50' 'mx_reihe' '500' 'c_reihe' 'v_klasse' 'm_klasse' 'yaris'\n",
            " 'c5' 'aygo' 'seicento' 'cc' 'carnival' 'fusion' '911' 'bora' 'forfour'\n",
            " 'cl' 'tigra' '300c' '100' 'cr_reihe' 'spark' 'kuga' 'x_type' 'ducato'\n",
            " 's_type' 'x_trail' 'toledo' 'altea' 'voyager' 'calibra' 'v70' 'bravo'\n",
            " 'tucson' 'c1' 'citigo' 'jimny' 'cayenne' 'wrangler' 'lybra' 'lancer'\n",
            " 'captiva' 'c2' 'discovery' 'freelander' 'sandero' 'q7' 'note' 'antara'\n",
            " '900' 'cherokee' 'clubman' 'defender' '601' 'cx_reihe' 'legacy' 'pajero'\n",
            " 'auris' 'niva' 's60' 'm_reihe' 'nubira' 'vivaro' 'g_klasse' 'lodgy'\n",
            " 'range_rover' '850' 'q3' 'serie_2' 'glk' 'charade' 'croma' 'outlander'\n",
            " 'doblo' 'musa' '9000' 'kalos' 'v60' 'aveo' '200' '145' 'b_max'\n",
            " 'range_rover_sport' 'move' 'rangerover' 'q5' 'range_rover_evoque'\n",
            " 'materia' 'delta' 'terios' 'gl' 'kalina' 'elefantino' 'i3' 'samara'\n",
            " 'amarok' 'kappa' 'serie_3']\n",
            "FuelType ['gasoline' 'petrol' 'NotDef' 'lpg' 'other' 'hybrid' 'cng' 'electric']\n",
            "Brand ['audi' 'jeep' 'volkswagen' 'skoda' 'bmw' 'peugeot' 'ford' 'mazda'\n",
            " 'nissan' 'renault' 'mercedes_benz' 'opel' 'seat' 'citroen' 'honda' 'fiat'\n",
            " 'mini' 'smart' 'hyundai' 'alfa_romeo' 'subaru' 'volvo' 'mitsubishi' 'kia'\n",
            " 'suzuki' 'lancia' 'toyota' 'chevrolet' 'dacia' 'sonstige_autos'\n",
            " 'daihatsu' 'chrysler' 'jaguar' 'daewoo' 'rover' 'porsche' 'saab'\n",
            " 'trabant' 'land_rover' 'lada']\n",
            "NotRepaired ['yes' 'NotDef' 'no']\n"
          ]
        }
      ]
    },
    {
      "cell_type": "markdown",
      "metadata": {
        "id": "m-Fc8cyzRrYX"
      },
      "source": [
        "Некорректные значения не наблюдаются."
      ]
    },
    {
      "cell_type": "markdown",
      "metadata": {
        "id": "lYHLovVBRrYX"
      },
      "source": [
        "Проверим корреляцию признаков:"
      ]
    },
    {
      "cell_type": "code",
      "metadata": {
        "scrolled": true,
        "id": "Jd5HjJxMRrYY",
        "outputId": "b76a2a9d-19ff-43cf-e8ae-3a579c1ed346"
      },
      "source": [
        "data.corr()"
      ],
      "execution_count": null,
      "outputs": [
        {
          "data": {
            "text/html": [
              "<div>\n",
              "<style scoped>\n",
              "    .dataframe tbody tr th:only-of-type {\n",
              "        vertical-align: middle;\n",
              "    }\n",
              "\n",
              "    .dataframe tbody tr th {\n",
              "        vertical-align: top;\n",
              "    }\n",
              "\n",
              "    .dataframe thead th {\n",
              "        text-align: right;\n",
              "    }\n",
              "</style>\n",
              "<table border=\"1\" class=\"dataframe\">\n",
              "  <thead>\n",
              "    <tr style=\"text-align: right;\">\n",
              "      <th></th>\n",
              "      <th>Price</th>\n",
              "      <th>RegistrationYear</th>\n",
              "      <th>Power</th>\n",
              "      <th>Kilometer</th>\n",
              "      <th>RegistrationMonth</th>\n",
              "    </tr>\n",
              "  </thead>\n",
              "  <tbody>\n",
              "    <tr>\n",
              "      <td>Price</td>\n",
              "      <td>1.000000</td>\n",
              "      <td>0.421823</td>\n",
              "      <td>0.499836</td>\n",
              "      <td>-0.385948</td>\n",
              "      <td>0.071134</td>\n",
              "    </tr>\n",
              "    <tr>\n",
              "      <td>RegistrationYear</td>\n",
              "      <td>0.421823</td>\n",
              "      <td>1.000000</td>\n",
              "      <td>0.108627</td>\n",
              "      <td>-0.253019</td>\n",
              "      <td>0.026711</td>\n",
              "    </tr>\n",
              "    <tr>\n",
              "      <td>Power</td>\n",
              "      <td>0.499836</td>\n",
              "      <td>0.108627</td>\n",
              "      <td>1.000000</td>\n",
              "      <td>0.101861</td>\n",
              "      <td>0.043542</td>\n",
              "    </tr>\n",
              "    <tr>\n",
              "      <td>Kilometer</td>\n",
              "      <td>-0.385948</td>\n",
              "      <td>-0.253019</td>\n",
              "      <td>0.101861</td>\n",
              "      <td>1.000000</td>\n",
              "      <td>-0.015560</td>\n",
              "    </tr>\n",
              "    <tr>\n",
              "      <td>RegistrationMonth</td>\n",
              "      <td>0.071134</td>\n",
              "      <td>0.026711</td>\n",
              "      <td>0.043542</td>\n",
              "      <td>-0.015560</td>\n",
              "      <td>1.000000</td>\n",
              "    </tr>\n",
              "  </tbody>\n",
              "</table>\n",
              "</div>"
            ],
            "text/plain": [
              "                      Price  RegistrationYear     Power  Kilometer  \\\n",
              "Price              1.000000          0.421823  0.499836  -0.385948   \n",
              "RegistrationYear   0.421823          1.000000  0.108627  -0.253019   \n",
              "Power              0.499836          0.108627  1.000000   0.101861   \n",
              "Kilometer         -0.385948         -0.253019  0.101861   1.000000   \n",
              "RegistrationMonth  0.071134          0.026711  0.043542  -0.015560   \n",
              "\n",
              "                   RegistrationMonth  \n",
              "Price                       0.071134  \n",
              "RegistrationYear            0.026711  \n",
              "Power                       0.043542  \n",
              "Kilometer                  -0.015560  \n",
              "RegistrationMonth           1.000000  "
            ]
          },
          "execution_count": 22,
          "metadata": {},
          "output_type": "execute_result"
        }
      ]
    },
    {
      "cell_type": "markdown",
      "metadata": {
        "id": "7b3gTOAbRrYY"
      },
      "source": [
        "Сильной корреляции не наблюдается. Относительно высокая корреляция наблюдается между годом регистрации, мощностью, пробегом."
      ]
    },
    {
      "cell_type": "markdown",
      "metadata": {
        "id": "DFze9R2JRrYY"
      },
      "source": [
        "Разделим данные на обучающий набор и целевой признак:"
      ]
    },
    {
      "cell_type": "code",
      "metadata": {
        "id": "MfAOyQ7sRrYY"
      },
      "source": [
        "data.reset_index(inplace=True,drop=True)\n",
        "target = data['Price']\n",
        "features = data.drop(['Price'],axis='columns')\n",
        "features_train,features_test,target_train,target_test = train_test_split(features,target,test_size=0.25,random_state=1234)"
      ],
      "execution_count": null,
      "outputs": []
    },
    {
      "cell_type": "markdown",
      "metadata": {
        "id": "YAThLqUPRrYZ"
      },
      "source": [
        "## Обучение моделей"
      ]
    },
    {
      "cell_type": "markdown",
      "metadata": {
        "id": "2fnZIXbzRrYZ"
      },
      "source": [
        "Создадим и обучим модель с использованием catBoost:"
      ]
    },
    {
      "cell_type": "markdown",
      "metadata": {
        "id": "HZ3DUXd8RrYZ"
      },
      "source": [
        "Для начала подберем наиболее оптимальные параметры модели:"
      ]
    },
    {
      "cell_type": "code",
      "metadata": {
        "scrolled": true,
        "id": "j2mSSFqjRrYa"
      },
      "source": [
        "# %%time\n",
        "# model_catboost = CatBoostRegressor(loss_function='RMSE',cat_features=cat_features,iterations=100)\n",
        "# grid = {'learning_rate':[0.1,0.3,0.5,0.75],'depth':range(8,17)}\n",
        "# grid_results = model_catboost.grid_search(grid,X=features,y=target,cv=5,verbose=25,plot=True)"
      ],
      "execution_count": null,
      "outputs": []
    },
    {
      "cell_type": "code",
      "metadata": {
        "scrolled": false,
        "id": "GGJFM5a0RrYa"
      },
      "source": [
        "# print(grid_results['params'])\n",
        "# print(model_catboost.get_best_score())"
      ],
      "execution_count": null,
      "outputs": []
    },
    {
      "cell_type": "markdown",
      "metadata": {
        "id": "_ApDbIqzRrYa"
      },
      "source": [
        "Наиболее оптимальные параметры обучения - глубина 13, скорость обучения - 0.3"
      ]
    },
    {
      "cell_type": "markdown",
      "metadata": {
        "id": "QRcqTCqzRrYb"
      },
      "source": [
        "Напишем функцию для применения на нескольких других алгоритмах:"
      ]
    },
    {
      "cell_type": "code",
      "metadata": {
        "id": "rkUwh4mkRrYb"
      },
      "source": [
        "def modeling(model,model_type,features_test,target_test,**kwargs):\n",
        "    start = time.time()\n",
        "    model=model\n",
        "    model.fit(**kwargs)\n",
        "    point1 = time.time()\n",
        "    predicts = model.predict(features_test)\n",
        "    end = time.time()\n",
        "    RMSE = (mean_squared_error(target_test,predicts)**0.5)\n",
        "    print('RMSE на алгоритме',model_type,'=',RMSE)\n",
        "    return RMSE, point1-start,end-point1"
      ],
      "execution_count": null,
      "outputs": []
    },
    {
      "cell_type": "markdown",
      "metadata": {
        "id": "zgpNIYL9RrYc"
      },
      "source": [
        "Проверим время работы на алгоритме CatBoost с заранее подобранными параметрами:"
      ]
    },
    {
      "cell_type": "code",
      "metadata": {
        "scrolled": false,
        "id": "uMImIQVzRrYc",
        "outputId": "f6d52274-4d34-4f7f-c252-c975e4fc0e95"
      },
      "source": [
        "%%time\n",
        "RMSE_CB,time_fit_CB,time_predict_CB = modeling(CatBoostRegressor(loss_function='RMSE',cat_features=cat_features,iterations=100,depth=13,learning_rate=0.3,verbose=0),'CatBoost',features_test,target_test,X=features_train,y=target_train)"
      ],
      "execution_count": null,
      "outputs": [
        {
          "name": "stdout",
          "output_type": "stream",
          "text": [
            "RMSE на алгоритме CatBoost = 1590.0344581597617\n",
            "CPU times: user 1min 24s, sys: 9.14 s, total: 1min 33s\n",
            "Wall time: 1min 35s\n"
          ]
        }
      ]
    },
    {
      "cell_type": "markdown",
      "metadata": {
        "id": "qXqo1UnlRrYd"
      },
      "source": [
        "Для других алгоритмов закодируем строковые признаки:"
      ]
    },
    {
      "cell_type": "code",
      "metadata": {
        "id": "vGz-XMRARrYd",
        "outputId": "a95255fc-28d5-49c0-c443-38305eb77331"
      },
      "source": [
        "%%time\n",
        "encoder = OrdinalEncoder()\n",
        "encoder.fit(features[cat_features])\n",
        "features_ordinal = features.copy()\n",
        "features_ordinal[cat_features] = pd.DataFrame(encoder.transform(features[cat_features]),columns=features[cat_features].columns)\n",
        "features_train_OE,features_test_OE,target_train_OE,target_test_OE = train_test_split(features_ordinal,target,test_size=0.25,random_state=1234)"
      ],
      "execution_count": null,
      "outputs": [
        {
          "name": "stdout",
          "output_type": "stream",
          "text": [
            "CPU times: user 685 ms, sys: 41.4 ms, total: 726 ms\n",
            "Wall time: 728 ms\n"
          ]
        }
      ]
    },
    {
      "cell_type": "code",
      "metadata": {
        "id": "1vn_Vf5HRrYe"
      },
      "source": [
        "features_OHE = pd.get_dummies(features,drop_first=True)\n",
        "features_train_OHE,features_test_OHE,target_train_OHE,target_test_OHE = train_test_split(features_OHE,target,test_size=0.25,random_state=1234)"
      ],
      "execution_count": null,
      "outputs": []
    },
    {
      "cell_type": "code",
      "metadata": {
        "id": "BFGP2mOaRrYf"
      },
      "source": [
        "del features"
      ],
      "execution_count": null,
      "outputs": []
    },
    {
      "cell_type": "markdown",
      "metadata": {
        "id": "17FgOr_dRrYf"
      },
      "source": [
        "Проверим модель на алгоритме линейной регрессии:"
      ]
    },
    {
      "cell_type": "code",
      "metadata": {
        "scrolled": true,
        "id": "hU34mdICRrYf",
        "outputId": "4dd55219-84df-47bf-c128-9714bf2ffdbf"
      },
      "source": [
        "%%time\n",
        "RMSE_LR,time_fit_LR,time_predict_LR = modeling(LinearRegression(normalize=True,n_jobs=-1),'линейная регрессия',features_test_OHE,target_test_OHE,X=features_train_OHE,y=target_train_OHE)"
      ],
      "execution_count": null,
      "outputs": [
        {
          "name": "stdout",
          "output_type": "stream",
          "text": [
            "RMSE на алгоритме линейная регрессия = 2627.645855440456\n",
            "CPU times: user 19.8 s, sys: 5.32 s, total: 25.1 s\n",
            "Wall time: 25.1 s\n"
          ]
        }
      ]
    },
    {
      "cell_type": "markdown",
      "metadata": {
        "id": "Enfumz9PRrYg"
      },
      "source": [
        "Проверим модель на алгоритме случайного леса:"
      ]
    },
    {
      "cell_type": "code",
      "metadata": {
        "scrolled": false,
        "id": "L8ACDLucRrYg",
        "outputId": "e5074ea7-7d05-4868-850c-9efe78156388"
      },
      "source": [
        "%%time\n",
        "RMSE_RFR,time_fit_RFR,time_predict_RFR = modeling(RandomForestRegressor(random_state=12345,n_estimators=100,max_depth=20,n_jobs=-1),'случайный лес',features_test_OE,target_test_OE,X=features_train_OE,y=target_train_OE)"
      ],
      "execution_count": null,
      "outputs": [
        {
          "name": "stdout",
          "output_type": "stream",
          "text": [
            "RMSE на алгоритме случайный лес = 1586.6334305073594\n",
            "CPU times: user 1min 21s, sys: 133 ms, total: 1min 22s\n",
            "Wall time: 1min 22s\n"
          ]
        }
      ]
    },
    {
      "cell_type": "markdown",
      "metadata": {
        "id": "NDfbmmDeRrYh"
      },
      "source": [
        "Проверим время работы алгоритма LGBM с заранее подобранными параметрами:"
      ]
    },
    {
      "cell_type": "code",
      "metadata": {
        "scrolled": true,
        "id": "BYSGWc9DRrYh",
        "outputId": "76e63933-919a-42a3-8c69-f6d3ae70a117"
      },
      "source": [
        "%%time\n",
        "RMSE_LGBM,time_fit_LGBM,time_predict_LGBM = modeling(LGBMRegressor(learning_rate=0.3,random_state=12345),'LightGBM',features_test_OE,target_test_OE,X=features_train_OE,y=target_train_OE,categorical_feature=cat_features)"
      ],
      "execution_count": null,
      "outputs": [
        {
          "name": "stderr",
          "output_type": "stream",
          "text": [
            "/opt/conda/lib/python3.7/site-packages/lightgbm/basic.py:1295: UserWarning: categorical_feature in Dataset is overridden.\n",
            "New categorical_feature is ['Brand', 'FuelType', 'Gearbox', 'Model', 'NotRepaired', 'VehicleType']\n",
            "  'New categorical_feature is {}'.format(sorted(list(categorical_feature))))\n"
          ]
        },
        {
          "name": "stdout",
          "output_type": "stream",
          "text": [
            "RMSE на алгоритме LightGBM = 1606.0377575386556\n",
            "CPU times: user 7.38 s, sys: 23.9 ms, total: 7.41 s\n",
            "Wall time: 7.47 s\n"
          ]
        }
      ]
    },
    {
      "cell_type": "markdown",
      "metadata": {
        "id": "ZRV-7P1FRrYi"
      },
      "source": [
        "## Анализ моделей"
      ]
    },
    {
      "cell_type": "markdown",
      "metadata": {
        "id": "KutWDpWKRrYi"
      },
      "source": [
        "Соберем воедино все показатели разных моделей:"
      ]
    },
    {
      "cell_type": "markdown",
      "metadata": {
        "id": "qe_tn4GgRrYi"
      },
      "source": [
        "Проведем анализ полученных результатов обучения моделей:"
      ]
    },
    {
      "cell_type": "code",
      "metadata": {
        "id": "Rj_kSQKmRrYj",
        "outputId": "04842606-f92b-4618-9f0b-5fa333103b44"
      },
      "source": [
        "results = pd.DataFrame({'Название алгоритма':['CatBoost','Linear Regression','Random Forest Regressor','Ligth Gradient Boost Machine'],'RMSE':[RMSE_CB,RMSE_LR,RMSE_RFR,RMSE_LGBM],'Время обучения':[time_fit_CB,time_fit_LR,time_fit_RFR,time_fit_LGBM],'Время предсказания':[time_predict_CB,time_predict_LR,time_predict_RFR,time_predict_LGBM]})\n",
        "results"
      ],
      "execution_count": null,
      "outputs": [
        {
          "data": {
            "text/html": [
              "<div>\n",
              "<style scoped>\n",
              "    .dataframe tbody tr th:only-of-type {\n",
              "        vertical-align: middle;\n",
              "    }\n",
              "\n",
              "    .dataframe tbody tr th {\n",
              "        vertical-align: top;\n",
              "    }\n",
              "\n",
              "    .dataframe thead th {\n",
              "        text-align: right;\n",
              "    }\n",
              "</style>\n",
              "<table border=\"1\" class=\"dataframe\">\n",
              "  <thead>\n",
              "    <tr style=\"text-align: right;\">\n",
              "      <th></th>\n",
              "      <th>Название алгоритма</th>\n",
              "      <th>RMSE</th>\n",
              "      <th>Время обучения</th>\n",
              "      <th>Время предсказания</th>\n",
              "    </tr>\n",
              "  </thead>\n",
              "  <tbody>\n",
              "    <tr>\n",
              "      <td>0</td>\n",
              "      <td>CatBoost</td>\n",
              "      <td>1590.034458</td>\n",
              "      <td>95.254045</td>\n",
              "      <td>0.274886</td>\n",
              "    </tr>\n",
              "    <tr>\n",
              "      <td>1</td>\n",
              "      <td>Linear Regression</td>\n",
              "      <td>2627.645855</td>\n",
              "      <td>24.763755</td>\n",
              "      <td>0.297887</td>\n",
              "    </tr>\n",
              "    <tr>\n",
              "      <td>2</td>\n",
              "      <td>Random Forest Regressor</td>\n",
              "      <td>1586.633431</td>\n",
              "      <td>79.094154</td>\n",
              "      <td>3.013397</td>\n",
              "    </tr>\n",
              "    <tr>\n",
              "      <td>3</td>\n",
              "      <td>Ligth Gradient Boost Machine</td>\n",
              "      <td>1606.037758</td>\n",
              "      <td>6.680645</td>\n",
              "      <td>0.710319</td>\n",
              "    </tr>\n",
              "  </tbody>\n",
              "</table>\n",
              "</div>"
            ],
            "text/plain": [
              "             Название алгоритма         RMSE  Время обучения  \\\n",
              "0                      CatBoost  1590.034458       95.254045   \n",
              "1             Linear Regression  2627.645855       24.763755   \n",
              "2       Random Forest Regressor  1586.633431       79.094154   \n",
              "3  Ligth Gradient Boost Machine  1606.037758        6.680645   \n",
              "\n",
              "   Время предсказания  \n",
              "0            0.274886  \n",
              "1            0.297887  \n",
              "2            3.013397  \n",
              "3            0.710319  "
            ]
          },
          "execution_count": 32,
          "metadata": {},
          "output_type": "execute_result"
        }
      ]
    },
    {
      "cell_type": "markdown",
      "metadata": {
        "id": "ACLXJI_jRrYj"
      },
      "source": [
        "Наиболее точный алгоритм - Случайный лес\n",
        "Наиболее быстрый алгоритм - Линейная регрессия.\n",
        "Оптимальный алгоритм - \"LigthGradientBoostMachine\""
      ]
    },
    {
      "cell_type": "markdown",
      "metadata": {
        "id": "2W-I2zFVRrYk"
      },
      "source": [
        "## Чек-лист проверки"
      ]
    },
    {
      "cell_type": "markdown",
      "metadata": {
        "id": "8HkUin8WRrYk"
      },
      "source": [
        "Поставьте 'x' в выполненных пунктах. Далее нажмите Shift+Enter."
      ]
    },
    {
      "cell_type": "markdown",
      "metadata": {
        "id": "3CYZdIc7RrYl"
      },
      "source": [
        "- [x]  Jupyter Notebook открыт\n",
        "- [x]  Весь код выполняется без ошибок\n",
        "- [x]  Ячейки с кодом расположены в порядке исполнения\n",
        "- [x]  Выполнена загрузка и подготовка данных\n",
        "- [x]  Выполнено обучение моделей\n",
        "- [x]  Есть анализ скорости работы и качества моделей"
      ]
    }
  ]
}