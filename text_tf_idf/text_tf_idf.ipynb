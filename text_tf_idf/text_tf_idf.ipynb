{
  "nbformat": 4,
  "nbformat_minor": 0,
  "metadata": {
    "ExecuteTimeLog": [
      {
        "duration": 723,
        "start_time": "2021-06-17T12:24:49.673Z"
      },
      {
        "duration": 2935,
        "start_time": "2021-06-17T12:25:04.228Z"
      },
      {
        "duration": 2617,
        "start_time": "2021-06-17T12:25:24.489Z"
      },
      {
        "duration": 762,
        "start_time": "2021-06-17T12:26:06.804Z"
      },
      {
        "duration": 23,
        "start_time": "2021-06-17T12:26:15.442Z"
      },
      {
        "duration": 434,
        "start_time": "2021-06-18T06:26:39.643Z"
      },
      {
        "duration": 734,
        "start_time": "2021-06-18T06:26:43.599Z"
      },
      {
        "duration": 787,
        "start_time": "2021-06-18T06:26:45.207Z"
      },
      {
        "duration": 22,
        "start_time": "2021-06-18T06:26:46.781Z"
      },
      {
        "duration": 32,
        "start_time": "2021-06-18T06:26:48.495Z"
      },
      {
        "duration": 1644,
        "start_time": "2021-06-18T06:27:48.543Z"
      },
      {
        "duration": -165,
        "start_time": "2021-06-18T06:29:07.293Z"
      },
      {
        "duration": 291,
        "start_time": "2021-06-18T06:29:26.566Z"
      },
      {
        "duration": 339,
        "start_time": "2021-06-18T06:29:39.040Z"
      },
      {
        "duration": 266,
        "start_time": "2021-06-18T06:29:53.710Z"
      },
      {
        "duration": 10,
        "start_time": "2021-06-18T06:29:56.935Z"
      },
      {
        "duration": 43,
        "start_time": "2021-06-18T07:20:55.282Z"
      },
      {
        "duration": 4,
        "start_time": "2021-06-18T07:25:36.703Z"
      },
      {
        "duration": 84,
        "start_time": "2021-06-18T07:28:01.685Z"
      },
      {
        "duration": 5,
        "start_time": "2021-06-18T07:28:08.414Z"
      },
      {
        "duration": 2624,
        "start_time": "2021-06-18T07:28:44.134Z"
      },
      {
        "duration": 5,
        "start_time": "2021-06-18T07:29:07.541Z"
      },
      {
        "duration": 300265,
        "start_time": "2021-06-18T07:29:08.733Z"
      },
      {
        "duration": 269,
        "start_time": "2021-06-18T07:34:24.787Z"
      },
      {
        "duration": 7,
        "start_time": "2021-06-18T07:34:44.930Z"
      },
      {
        "duration": 933,
        "start_time": "2021-06-18T07:34:58.866Z"
      },
      {
        "duration": 6,
        "start_time": "2021-06-18T07:35:28.258Z"
      },
      {
        "duration": 871,
        "start_time": "2021-06-18T07:36:31.490Z"
      },
      {
        "duration": 5,
        "start_time": "2021-06-18T07:37:00.840Z"
      },
      {
        "duration": 79233,
        "start_time": "2021-06-18T07:37:02.096Z"
      },
      {
        "duration": 5,
        "start_time": "2021-06-18T07:38:25.576Z"
      },
      {
        "duration": 1859,
        "start_time": "2021-06-18T09:17:22.010Z"
      },
      {
        "duration": -45,
        "start_time": "2021-06-18T09:17:23.917Z"
      },
      {
        "duration": -52,
        "start_time": "2021-06-18T09:17:23.925Z"
      },
      {
        "duration": -56,
        "start_time": "2021-06-18T09:17:23.930Z"
      },
      {
        "duration": -57,
        "start_time": "2021-06-18T09:17:23.932Z"
      },
      {
        "duration": -61,
        "start_time": "2021-06-18T09:17:23.937Z"
      },
      {
        "duration": -61,
        "start_time": "2021-06-18T09:17:23.939Z"
      },
      {
        "duration": 1755,
        "start_time": "2021-06-18T09:18:23.868Z"
      },
      {
        "duration": 792,
        "start_time": "2021-06-18T09:18:25.627Z"
      },
      {
        "duration": 16,
        "start_time": "2021-06-18T09:18:26.423Z"
      },
      {
        "duration": 45,
        "start_time": "2021-06-18T09:18:26.442Z"
      },
      {
        "duration": 14,
        "start_time": "2021-06-18T09:18:26.490Z"
      },
      {
        "duration": 5,
        "start_time": "2021-06-18T09:18:26.506Z"
      },
      {
        "duration": 692025,
        "start_time": "2021-06-18T09:18:26.514Z"
      },
      {
        "duration": 9,
        "start_time": "2021-06-18T09:30:20.513Z"
      },
      {
        "duration": 1751,
        "start_time": "2021-06-18T09:30:44.737Z"
      },
      {
        "duration": 755,
        "start_time": "2021-06-18T09:30:46.491Z"
      },
      {
        "duration": 22,
        "start_time": "2021-06-18T09:30:47.249Z"
      },
      {
        "duration": 38,
        "start_time": "2021-06-18T09:30:47.274Z"
      },
      {
        "duration": 43,
        "start_time": "2021-06-18T09:30:47.314Z"
      },
      {
        "duration": 4,
        "start_time": "2021-06-18T09:30:47.360Z"
      },
      {
        "duration": 167194,
        "start_time": "2021-06-18T09:30:47.367Z"
      },
      {
        "duration": 8,
        "start_time": "2021-06-18T09:52:07.978Z"
      },
      {
        "duration": 663,
        "start_time": "2021-06-18T10:47:43.087Z"
      },
      {
        "duration": 6,
        "start_time": "2021-06-18T10:47:49.490Z"
      },
      {
        "duration": 273,
        "start_time": "2021-06-18T10:49:22.817Z"
      },
      {
        "duration": 6,
        "start_time": "2021-06-18T10:49:41.241Z"
      },
      {
        "duration": 264,
        "start_time": "2021-06-18T10:49:46.090Z"
      },
      {
        "duration": 280,
        "start_time": "2021-06-18T10:50:44.290Z"
      },
      {
        "duration": 1071,
        "start_time": "2021-06-18T12:33:07.781Z"
      },
      {
        "duration": 358,
        "start_time": "2021-06-18T12:34:37.006Z"
      },
      {
        "duration": 1811,
        "start_time": "2021-06-18T12:34:40.653Z"
      },
      {
        "duration": 3567,
        "start_time": "2021-06-18T12:34:43.688Z"
      },
      {
        "duration": 22,
        "start_time": "2021-06-18T12:34:51.106Z"
      },
      {
        "duration": 6,
        "start_time": "2021-06-18T12:35:00.844Z"
      },
      {
        "duration": 810,
        "start_time": "2021-06-18T12:35:41.707Z"
      },
      {
        "duration": 5,
        "start_time": "2021-06-18T12:35:45.974Z"
      },
      {
        "duration": 1462,
        "start_time": "2021-06-18T12:35:50.302Z"
      },
      {
        "duration": 1894,
        "start_time": "2021-06-18T12:36:31.925Z"
      },
      {
        "duration": 1910,
        "start_time": "2021-06-18T12:36:51.531Z"
      },
      {
        "duration": 774,
        "start_time": "2021-06-18T12:36:53.444Z"
      },
      {
        "duration": 23,
        "start_time": "2021-06-18T12:36:54.222Z"
      },
      {
        "duration": 37,
        "start_time": "2021-06-18T12:36:54.248Z"
      },
      {
        "duration": 11,
        "start_time": "2021-06-18T12:36:54.288Z"
      },
      {
        "duration": 6,
        "start_time": "2021-06-18T12:36:54.302Z"
      },
      {
        "duration": 151798,
        "start_time": "2021-06-18T12:36:54.310Z"
      },
      {
        "duration": 430,
        "start_time": "2021-06-18T12:39:26.110Z"
      },
      {
        "duration": 263,
        "start_time": "2021-06-18T12:39:46.587Z"
      },
      {
        "duration": 245,
        "start_time": "2021-06-18T12:43:18.524Z"
      },
      {
        "duration": 3875,
        "start_time": "2021-06-18T12:43:22.749Z"
      },
      {
        "duration": 5664,
        "start_time": "2021-06-18T12:51:25.528Z"
      },
      {
        "duration": 5469,
        "start_time": "2021-06-18T12:53:47.143Z"
      },
      {
        "duration": 771,
        "start_time": "2021-06-18T12:53:52.615Z"
      },
      {
        "duration": 22,
        "start_time": "2021-06-18T12:53:53.389Z"
      },
      {
        "duration": 53,
        "start_time": "2021-06-18T12:53:53.414Z"
      },
      {
        "duration": 10,
        "start_time": "2021-06-18T12:53:53.470Z"
      },
      {
        "duration": 5,
        "start_time": "2021-06-18T12:53:53.483Z"
      },
      {
        "duration": 5567,
        "start_time": "2021-06-18T14:56:37.809Z"
      },
      {
        "duration": 6427,
        "start_time": "2021-06-18T14:56:43.378Z"
      },
      {
        "duration": 29,
        "start_time": "2021-06-18T14:56:49.807Z"
      },
      {
        "duration": 30,
        "start_time": "2021-06-18T14:56:49.838Z"
      },
      {
        "duration": 9,
        "start_time": "2021-06-18T14:56:49.870Z"
      },
      {
        "duration": 4,
        "start_time": "2021-06-18T14:56:49.882Z"
      },
      {
        "duration": 151711,
        "start_time": "2021-06-18T14:56:49.888Z"
      },
      {
        "duration": 6676,
        "start_time": "2021-06-18T15:08:54.065Z"
      },
      {
        "duration": 6419,
        "start_time": "2021-06-18T15:09:00.744Z"
      },
      {
        "duration": 23,
        "start_time": "2021-06-18T15:09:07.166Z"
      },
      {
        "duration": 48,
        "start_time": "2021-06-18T15:09:07.192Z"
      },
      {
        "duration": 10,
        "start_time": "2021-06-18T15:09:07.243Z"
      },
      {
        "duration": 7,
        "start_time": "2021-06-18T15:09:07.256Z"
      },
      {
        "duration": 157436,
        "start_time": "2021-06-18T15:09:07.266Z"
      },
      {
        "duration": 5584,
        "start_time": "2021-06-18T15:36:29.643Z"
      },
      {
        "duration": 6654,
        "start_time": "2021-06-18T15:36:35.230Z"
      },
      {
        "duration": 41,
        "start_time": "2021-06-18T15:36:41.888Z"
      },
      {
        "duration": 33,
        "start_time": "2021-06-18T15:36:41.933Z"
      },
      {
        "duration": 12,
        "start_time": "2021-06-18T15:36:41.969Z"
      },
      {
        "duration": 5,
        "start_time": "2021-06-18T15:36:41.983Z"
      },
      {
        "duration": 150852,
        "start_time": "2021-06-18T15:36:41.990Z"
      },
      {
        "duration": 5866,
        "start_time": "2021-06-21T07:37:22.069Z"
      },
      {
        "duration": 741,
        "start_time": "2021-06-21T07:46:50.404Z"
      },
      {
        "duration": 4,
        "start_time": "2021-06-21T07:47:08.713Z"
      },
      {
        "duration": 1899,
        "start_time": "2021-06-21T07:47:14.560Z"
      },
      {
        "duration": 5,
        "start_time": "2021-06-21T07:56:01.234Z"
      },
      {
        "duration": 1371,
        "start_time": "2021-06-21T07:56:03.052Z"
      },
      {
        "duration": 5,
        "start_time": "2021-06-21T07:57:06.874Z"
      },
      {
        "duration": 1767,
        "start_time": "2021-06-21T07:57:07.987Z"
      },
      {
        "duration": 5,
        "start_time": "2021-06-21T07:57:20.722Z"
      },
      {
        "duration": 6862,
        "start_time": "2021-06-21T08:06:45.734Z"
      },
      {
        "duration": 749,
        "start_time": "2021-06-21T08:06:52.598Z"
      },
      {
        "duration": 6,
        "start_time": "2021-06-21T08:07:00.101Z"
      },
      {
        "duration": 4799,
        "start_time": "2021-06-21T08:07:08.944Z"
      },
      {
        "duration": 6,
        "start_time": "2021-06-21T08:07:47.246Z"
      },
      {
        "duration": 1755,
        "start_time": "2021-06-21T08:07:48.565Z"
      },
      {
        "duration": 15,
        "start_time": "2021-06-21T08:08:45.942Z"
      },
      {
        "duration": 299,
        "start_time": "2021-06-21T08:08:54.509Z"
      },
      {
        "duration": 5,
        "start_time": "2021-06-21T08:09:55.922Z"
      },
      {
        "duration": 7,
        "start_time": "2021-06-21T08:12:30.194Z"
      },
      {
        "duration": 5,
        "start_time": "2021-06-21T08:12:35.458Z"
      },
      {
        "duration": 1792,
        "start_time": "2021-06-21T08:12:36.313Z"
      },
      {
        "duration": 6,
        "start_time": "2021-06-21T08:24:45.843Z"
      },
      {
        "duration": 1425,
        "start_time": "2021-06-21T08:24:47.572Z"
      },
      {
        "duration": 5,
        "start_time": "2021-06-21T12:13:50.669Z"
      },
      {
        "duration": 1445,
        "start_time": "2021-06-21T12:13:51.559Z"
      },
      {
        "duration": 6,
        "start_time": "2021-06-21T12:14:24.327Z"
      },
      {
        "duration": 1357,
        "start_time": "2021-06-21T12:14:25.079Z"
      },
      {
        "duration": 5,
        "start_time": "2021-06-21T12:15:06.981Z"
      },
      {
        "duration": 731,
        "start_time": "2021-06-21T12:15:30.686Z"
      },
      {
        "duration": 15,
        "start_time": "2021-06-21T12:15:39.310Z"
      },
      {
        "duration": 6,
        "start_time": "2021-06-21T12:16:00.872Z"
      },
      {
        "duration": 17,
        "start_time": "2021-06-21T12:16:01.743Z"
      },
      {
        "duration": 11,
        "start_time": "2021-06-21T12:16:37.334Z"
      },
      {
        "duration": 1837,
        "start_time": "2021-06-21T12:16:38.109Z"
      },
      {
        "duration": 6,
        "start_time": "2021-06-21T12:16:49.797Z"
      },
      {
        "duration": 15,
        "start_time": "2021-06-21T12:16:50.637Z"
      },
      {
        "duration": 6,
        "start_time": "2021-06-21T12:17:29.047Z"
      },
      {
        "duration": 17,
        "start_time": "2021-06-21T12:17:29.764Z"
      },
      {
        "duration": 6,
        "start_time": "2021-06-21T12:18:30.510Z"
      },
      {
        "duration": 17,
        "start_time": "2021-06-21T12:18:31.053Z"
      },
      {
        "duration": 17,
        "start_time": "2021-06-21T12:18:32.830Z"
      },
      {
        "duration": 16,
        "start_time": "2021-06-21T12:18:35.596Z"
      },
      {
        "duration": 7,
        "start_time": "2021-06-21T12:26:52.167Z"
      },
      {
        "duration": 1330,
        "start_time": "2021-06-21T12:26:53.417Z"
      },
      {
        "duration": 6,
        "start_time": "2021-06-21T12:27:12.288Z"
      },
      {
        "duration": 1346,
        "start_time": "2021-06-21T12:27:12.904Z"
      },
      {
        "duration": 7,
        "start_time": "2021-06-21T12:27:37.584Z"
      },
      {
        "duration": 1523,
        "start_time": "2021-06-21T12:27:38.168Z"
      },
      {
        "duration": 7,
        "start_time": "2021-06-21T12:27:46.111Z"
      },
      {
        "duration": 1315,
        "start_time": "2021-06-21T12:27:47.090Z"
      },
      {
        "duration": 7,
        "start_time": "2021-06-21T12:28:33.376Z"
      },
      {
        "duration": 1331,
        "start_time": "2021-06-21T12:28:34.167Z"
      },
      {
        "duration": 6,
        "start_time": "2021-06-21T12:28:56.783Z"
      },
      {
        "duration": 14,
        "start_time": "2021-06-21T12:28:57.361Z"
      },
      {
        "duration": 7,
        "start_time": "2021-06-21T12:29:57.182Z"
      },
      {
        "duration": 1347,
        "start_time": "2021-06-21T12:29:58.102Z"
      },
      {
        "duration": 6,
        "start_time": "2021-06-21T12:32:33.037Z"
      },
      {
        "duration": 19,
        "start_time": "2021-06-21T12:32:33.677Z"
      },
      {
        "duration": 279,
        "start_time": "2021-06-21T12:33:00.116Z"
      },
      {
        "duration": 6,
        "start_time": "2021-06-21T12:33:04.204Z"
      },
      {
        "duration": 14,
        "start_time": "2021-06-21T12:33:05.187Z"
      },
      {
        "duration": 6,
        "start_time": "2021-06-21T12:33:17.285Z"
      },
      {
        "duration": 14,
        "start_time": "2021-06-21T12:33:19.012Z"
      },
      {
        "duration": 86,
        "start_time": "2021-06-21T12:33:40.937Z"
      },
      {
        "duration": 90,
        "start_time": "2021-06-21T12:33:58.364Z"
      },
      {
        "duration": 7,
        "start_time": "2021-06-21T12:34:14.851Z"
      },
      {
        "duration": 19,
        "start_time": "2021-06-21T12:34:16.598Z"
      },
      {
        "duration": 6,
        "start_time": "2021-06-21T12:36:12.448Z"
      },
      {
        "duration": 1373,
        "start_time": "2021-06-21T12:36:13.297Z"
      },
      {
        "duration": 6,
        "start_time": "2021-06-21T12:36:22.283Z"
      },
      {
        "duration": 19,
        "start_time": "2021-06-21T12:36:22.868Z"
      },
      {
        "duration": 7,
        "start_time": "2021-06-21T12:37:06.474Z"
      },
      {
        "duration": 20,
        "start_time": "2021-06-21T12:37:07.162Z"
      },
      {
        "duration": 9,
        "start_time": "2021-06-21T12:37:23.569Z"
      },
      {
        "duration": 90,
        "start_time": "2021-06-21T12:38:08.793Z"
      },
      {
        "duration": 95,
        "start_time": "2021-06-21T12:38:17.802Z"
      },
      {
        "duration": 6,
        "start_time": "2021-06-21T12:39:07.576Z"
      },
      {
        "duration": 9,
        "start_time": "2021-06-21T12:39:09.128Z"
      },
      {
        "duration": 97,
        "start_time": "2021-06-21T12:41:35.775Z"
      },
      {
        "duration": 6,
        "start_time": "2021-06-21T12:41:45.127Z"
      },
      {
        "duration": 1324,
        "start_time": "2021-06-21T12:41:46.366Z"
      },
      {
        "duration": 6,
        "start_time": "2021-06-21T12:42:55.511Z"
      },
      {
        "duration": 9,
        "start_time": "2021-06-21T12:42:56.449Z"
      },
      {
        "duration": 6,
        "start_time": "2021-06-21T12:45:22.148Z"
      },
      {
        "duration": 9,
        "start_time": "2021-06-21T12:45:23.523Z"
      },
      {
        "duration": 6,
        "start_time": "2021-06-21T12:46:30.845Z"
      },
      {
        "duration": 10,
        "start_time": "2021-06-21T12:46:31.179Z"
      },
      {
        "duration": 6,
        "start_time": "2021-06-21T12:46:41.995Z"
      },
      {
        "duration": 9,
        "start_time": "2021-06-21T12:46:42.339Z"
      },
      {
        "duration": 12,
        "start_time": "2021-06-21T12:46:53.419Z"
      },
      {
        "duration": 11,
        "start_time": "2021-06-21T12:47:02.987Z"
      },
      {
        "duration": 8,
        "start_time": "2021-06-21T12:47:13.355Z"
      },
      {
        "duration": 16,
        "start_time": "2021-06-21T12:47:13.738Z"
      },
      {
        "duration": 292,
        "start_time": "2021-06-21T12:47:25.123Z"
      },
      {
        "duration": 6,
        "start_time": "2021-06-21T12:47:42.419Z"
      },
      {
        "duration": 12,
        "start_time": "2021-06-21T12:47:44.619Z"
      },
      {
        "duration": 7,
        "start_time": "2021-06-21T12:51:05.313Z"
      },
      {
        "duration": 1915,
        "start_time": "2021-06-21T12:51:06.234Z"
      },
      {
        "duration": 6,
        "start_time": "2021-06-21T12:51:35.657Z"
      },
      {
        "duration": 13,
        "start_time": "2021-06-21T12:51:36.169Z"
      },
      {
        "duration": 6,
        "start_time": "2021-06-21T12:52:13.799Z"
      },
      {
        "duration": 12,
        "start_time": "2021-06-21T12:52:14.719Z"
      },
      {
        "duration": 12,
        "start_time": "2021-06-21T12:52:43.598Z"
      },
      {
        "duration": 89214,
        "start_time": "2021-06-21T12:52:44.776Z"
      },
      {
        "duration": -107,
        "start_time": "2021-06-21T12:54:14.100Z"
      },
      {
        "duration": 5,
        "start_time": "2021-06-21T12:54:22.693Z"
      },
      {
        "duration": 5,
        "start_time": "2021-06-21T12:54:32.127Z"
      },
      {
        "duration": 6,
        "start_time": "2021-06-21T12:54:57.078Z"
      },
      {
        "duration": 12,
        "start_time": "2021-06-21T12:54:58.062Z"
      },
      {
        "duration": 7,
        "start_time": "2021-06-21T12:57:45.267Z"
      },
      {
        "duration": 15,
        "start_time": "2021-06-21T12:57:46.045Z"
      },
      {
        "duration": 7,
        "start_time": "2021-06-21T12:58:46.309Z"
      },
      {
        "duration": 12,
        "start_time": "2021-06-21T12:58:47.147Z"
      },
      {
        "duration": 7,
        "start_time": "2021-06-21T12:59:02.461Z"
      },
      {
        "duration": 14,
        "start_time": "2021-06-21T12:59:03.124Z"
      },
      {
        "duration": 9,
        "start_time": "2021-06-21T12:59:13.332Z"
      },
      {
        "duration": 13,
        "start_time": "2021-06-21T12:59:14.068Z"
      },
      {
        "duration": 7,
        "start_time": "2021-06-21T12:59:39.876Z"
      },
      {
        "duration": 12,
        "start_time": "2021-06-21T12:59:40.540Z"
      },
      {
        "duration": 7,
        "start_time": "2021-06-21T13:01:28.131Z"
      },
      {
        "duration": 7,
        "start_time": "2021-06-21T13:01:37.259Z"
      },
      {
        "duration": 13,
        "start_time": "2021-06-21T13:01:37.787Z"
      },
      {
        "duration": 7,
        "start_time": "2021-06-21T13:02:30.067Z"
      },
      {
        "duration": 13,
        "start_time": "2021-06-21T13:02:30.899Z"
      },
      {
        "duration": 7,
        "start_time": "2021-06-21T13:03:49.643Z"
      },
      {
        "duration": 11,
        "start_time": "2021-06-21T13:03:50.578Z"
      },
      {
        "duration": 219165,
        "start_time": "2021-06-21T13:03:58.050Z"
      },
      {
        "duration": 8,
        "start_time": "2021-06-21T13:08:07.713Z"
      },
      {
        "duration": 7764,
        "start_time": "2021-06-21T13:10:01.038Z"
      },
      {
        "duration": 6,
        "start_time": "2021-06-21T13:10:19.686Z"
      },
      {
        "duration": 293,
        "start_time": "2021-06-21T13:10:35.358Z"
      },
      {
        "duration": 57,
        "start_time": "2021-06-21T13:10:45.206Z"
      },
      {
        "duration": 11715,
        "start_time": "2021-06-21T13:11:31.790Z"
      },
      {
        "duration": 6,
        "start_time": "2021-06-21T13:12:32.900Z"
      },
      {
        "duration": 9769,
        "start_time": "2021-06-21T13:19:59.297Z"
      },
      {
        "duration": 6984,
        "start_time": "2021-06-21T13:21:19.484Z"
      },
      {
        "duration": 282,
        "start_time": "2021-06-21T13:21:28.233Z"
      },
      {
        "duration": 6,
        "start_time": "2021-06-21T13:21:37.769Z"
      },
      {
        "duration": 5888,
        "start_time": "2021-06-21T14:36:41.140Z"
      },
      {
        "duration": 754,
        "start_time": "2021-06-21T14:36:47.030Z"
      },
      {
        "duration": 24,
        "start_time": "2021-06-21T14:36:47.787Z"
      },
      {
        "duration": 34,
        "start_time": "2021-06-21T14:36:47.815Z"
      },
      {
        "duration": 41,
        "start_time": "2021-06-21T14:36:47.852Z"
      },
      {
        "duration": 10,
        "start_time": "2021-06-21T14:36:47.896Z"
      },
      {
        "duration": 219366,
        "start_time": "2021-06-21T14:36:47.909Z"
      },
      {
        "duration": 75,
        "start_time": "2021-06-21T14:40:27.278Z"
      },
      {
        "duration": 7706,
        "start_time": "2021-06-21T14:40:27.356Z"
      },
      {
        "duration": 4,
        "start_time": "2021-06-21T14:40:35.065Z"
      },
      {
        "duration": 871,
        "start_time": "2021-06-21T14:40:35.071Z"
      },
      {
        "duration": 8,
        "start_time": "2021-06-21T14:42:10.463Z"
      },
      {
        "duration": 11343,
        "start_time": "2021-06-21T14:46:29.154Z"
      },
      {
        "duration": 4,
        "start_time": "2021-06-21T14:46:46.756Z"
      },
      {
        "duration": 10728,
        "start_time": "2021-06-21T14:46:47.604Z"
      },
      {
        "duration": 66392,
        "start_time": "2021-06-21T15:02:41.105Z"
      },
      {
        "duration": 291,
        "start_time": "2021-06-21T15:04:14.021Z"
      },
      {
        "duration": 103623,
        "start_time": "2021-06-21T15:04:30.901Z"
      },
      {
        "duration": 295,
        "start_time": "2021-06-21T15:07:28.352Z"
      },
      {
        "duration": 8,
        "start_time": "2021-06-21T15:07:37.799Z"
      },
      {
        "duration": 4,
        "start_time": "2021-06-21T15:09:52.739Z"
      },
      {
        "duration": 105838,
        "start_time": "2021-06-21T15:10:49.716Z"
      },
      {
        "duration": 280,
        "start_time": "2021-06-21T15:15:58.709Z"
      },
      {
        "duration": 65,
        "start_time": "2021-06-21T15:16:06.312Z"
      },
      {
        "duration": 1046223,
        "start_time": "2021-06-21T15:16:11.386Z"
      },
      {
        "duration": 2133,
        "start_time": "2021-06-21T15:36:53.711Z"
      },
      {
        "duration": 183280,
        "start_time": "2021-06-21T15:37:08.119Z"
      },
      {
        "duration": 18,
        "start_time": "2021-06-21T15:41:54.605Z"
      },
      {
        "duration": 5,
        "start_time": "2021-06-21T15:42:17.589Z"
      },
      {
        "duration": 8,
        "start_time": "2021-06-21T15:44:03.184Z"
      },
      {
        "duration": 8,
        "start_time": "2021-06-21T15:44:50.916Z"
      },
      {
        "duration": 5,
        "start_time": "2021-06-21T15:45:39.246Z"
      },
      {
        "duration": 673,
        "start_time": "2021-06-21T15:45:51.320Z"
      },
      {
        "duration": 9,
        "start_time": "2021-06-21T15:46:17.766Z"
      },
      {
        "duration": 27,
        "start_time": "2021-06-21T15:47:51.451Z"
      },
      {
        "duration": 100763,
        "start_time": "2021-06-21T15:48:31.497Z"
      },
      {
        "duration": 21,
        "start_time": "2021-06-21T15:50:12.263Z"
      },
      {
        "duration": 1865,
        "start_time": "2021-06-21T16:00:47.391Z"
      },
      {
        "duration": 726,
        "start_time": "2021-06-21T16:00:49.258Z"
      },
      {
        "duration": 21,
        "start_time": "2021-06-21T16:00:49.987Z"
      },
      {
        "duration": 35,
        "start_time": "2021-06-21T16:00:50.011Z"
      },
      {
        "duration": 35,
        "start_time": "2021-06-21T16:00:50.048Z"
      },
      {
        "duration": 8,
        "start_time": "2021-06-21T16:00:50.086Z"
      },
      {
        "duration": 206518,
        "start_time": "2021-06-21T16:00:50.096Z"
      },
      {
        "duration": 85,
        "start_time": "2021-06-21T16:04:16.616Z"
      },
      {
        "duration": 7311,
        "start_time": "2021-06-21T16:04:16.705Z"
      },
      {
        "duration": 4,
        "start_time": "2021-06-21T16:04:24.019Z"
      },
      {
        "duration": 8,
        "start_time": "2021-06-21T16:04:24.026Z"
      },
      {
        "duration": 1052924,
        "start_time": "2021-06-21T16:08:46.452Z"
      },
      {
        "duration": 273,
        "start_time": "2021-06-21T16:33:31.144Z"
      },
      {
        "duration": 4,
        "start_time": "2021-06-21T16:34:18.063Z"
      },
      {
        "duration": 970777,
        "start_time": "2021-06-21T16:34:21.046Z"
      },
      {
        "duration": 8,
        "start_time": "2021-06-21T16:51:22.850Z"
      },
      {
        "duration": 70301,
        "start_time": "2021-06-21T16:52:03.001Z"
      },
      {
        "duration": 5,
        "start_time": "2021-06-21T16:55:31.308Z"
      },
      {
        "duration": 66939,
        "start_time": "2021-06-21T16:55:50.693Z"
      },
      {
        "duration": 7,
        "start_time": "2021-06-21T16:59:24.831Z"
      },
      {
        "duration": 2209,
        "start_time": "2021-06-21T17:00:02.864Z"
      },
      {
        "duration": 793,
        "start_time": "2021-06-21T17:00:05.076Z"
      },
      {
        "duration": 28,
        "start_time": "2021-06-21T17:00:05.872Z"
      },
      {
        "duration": 34,
        "start_time": "2021-06-21T17:00:05.903Z"
      },
      {
        "duration": 9,
        "start_time": "2021-06-21T17:00:05.940Z"
      },
      {
        "duration": 12,
        "start_time": "2021-06-21T17:00:05.984Z"
      },
      {
        "duration": 214523,
        "start_time": "2021-06-21T17:00:05.999Z"
      },
      {
        "duration": 86,
        "start_time": "2021-06-21T17:03:40.525Z"
      },
      {
        "duration": 7319,
        "start_time": "2021-06-21T17:03:40.615Z"
      },
      {
        "duration": 4,
        "start_time": "2021-06-21T17:03:47.936Z"
      },
      {
        "duration": 8,
        "start_time": "2021-06-21T17:03:47.942Z"
      },
      {
        "duration": 79145,
        "start_time": "2021-06-21T17:03:47.952Z"
      },
      {
        "duration": 16643,
        "start_time": "2021-06-21T17:05:07.100Z"
      },
      {
        "duration": 2482,
        "start_time": "2021-06-21T17:05:23.745Z"
      },
      {
        "duration": -160,
        "start_time": "2021-06-21T17:05:26.390Z"
      },
      {
        "duration": -161,
        "start_time": "2021-06-21T17:05:26.392Z"
      },
      {
        "duration": 14695,
        "start_time": "2021-06-21T17:17:02.774Z"
      },
      {
        "duration": 14856,
        "start_time": "2021-06-21T17:18:03.909Z"
      },
      {
        "duration": 10,
        "start_time": "2021-06-21T17:20:41.180Z"
      },
      {
        "duration": 51,
        "start_time": "2021-06-21T17:22:00.271Z"
      },
      {
        "duration": 5,
        "start_time": "2021-06-21T17:22:02.912Z"
      },
      {
        "duration": 14717,
        "start_time": "2021-06-21T17:22:05.058Z"
      },
      {
        "duration": 14860,
        "start_time": "2021-06-21T17:22:42.905Z"
      },
      {
        "duration": 12061,
        "start_time": "2021-06-21T17:23:27.258Z"
      },
      {
        "duration": -248,
        "start_time": "2021-06-21T17:23:39.570Z"
      },
      {
        "duration": -248,
        "start_time": "2021-06-21T17:23:39.572Z"
      },
      {
        "duration": -250,
        "start_time": "2021-06-21T17:23:39.575Z"
      },
      {
        "duration": 1884,
        "start_time": "2021-06-21T17:23:49.810Z"
      },
      {
        "duration": 920,
        "start_time": "2021-06-21T17:23:51.698Z"
      },
      {
        "duration": 24,
        "start_time": "2021-06-21T17:23:52.620Z"
      },
      {
        "duration": 60,
        "start_time": "2021-06-21T17:23:52.647Z"
      },
      {
        "duration": 10,
        "start_time": "2021-06-21T17:23:52.710Z"
      },
      {
        "duration": 9,
        "start_time": "2021-06-21T17:23:52.723Z"
      },
      {
        "duration": 225863,
        "start_time": "2021-06-21T17:23:52.734Z"
      },
      {
        "duration": 82,
        "start_time": "2021-06-21T17:27:38.602Z"
      },
      {
        "duration": 7970,
        "start_time": "2021-06-21T17:27:38.687Z"
      },
      {
        "duration": 5,
        "start_time": "2021-06-21T17:27:46.659Z"
      },
      {
        "duration": 19,
        "start_time": "2021-06-21T17:27:46.667Z"
      },
      {
        "duration": 14798,
        "start_time": "2021-06-21T17:27:46.689Z"
      },
      {
        "duration": 17836,
        "start_time": "2021-06-21T17:28:01.491Z"
      },
      {
        "duration": 1866,
        "start_time": "2021-06-21T18:07:22.948Z"
      },
      {
        "duration": 787,
        "start_time": "2021-06-21T18:07:24.817Z"
      },
      {
        "duration": 24,
        "start_time": "2021-06-21T18:07:25.607Z"
      },
      {
        "duration": 49,
        "start_time": "2021-06-21T18:07:25.634Z"
      },
      {
        "duration": 13,
        "start_time": "2021-06-21T18:07:25.686Z"
      },
      {
        "duration": 11,
        "start_time": "2021-06-21T18:07:25.702Z"
      },
      {
        "duration": 230291,
        "start_time": "2021-06-21T18:07:25.716Z"
      },
      {
        "duration": 82,
        "start_time": "2021-06-21T18:11:16.010Z"
      },
      {
        "duration": 7623,
        "start_time": "2021-06-21T18:11:16.095Z"
      },
      {
        "duration": 4,
        "start_time": "2021-06-21T18:11:23.720Z"
      },
      {
        "duration": 7,
        "start_time": "2021-06-21T18:11:23.726Z"
      },
      {
        "duration": 16718,
        "start_time": "2021-06-21T18:11:23.736Z"
      },
      {
        "duration": -222,
        "start_time": "2021-06-21T18:11:40.680Z"
      },
      {
        "duration": -222,
        "start_time": "2021-06-21T18:11:40.682Z"
      },
      {
        "duration": -220,
        "start_time": "2021-06-21T18:11:40.683Z"
      },
      {
        "duration": -219,
        "start_time": "2021-06-21T18:11:40.685Z"
      },
      {
        "duration": 8,
        "start_time": "2021-06-21T18:13:06.741Z"
      },
      {
        "duration": 9,
        "start_time": "2021-06-21T18:13:12.477Z"
      },
      {
        "duration": 14984,
        "start_time": "2021-06-21T18:13:12.490Z"
      },
      {
        "duration": 27014,
        "start_time": "2021-06-21T18:13:27.484Z"
      },
      {
        "duration": 5262395,
        "start_time": "2021-06-21T18:13:54.502Z"
      },
      {
        "duration": 492439,
        "start_time": "2021-06-21T19:41:36.899Z"
      },
      {
        "duration": 11,
        "start_time": "2021-06-21T19:49:49.341Z"
      },
      {
        "duration": 6,
        "start_time": "2021-06-22T10:36:46.588Z"
      },
      {
        "duration": 1930,
        "start_time": "2021-06-22T10:36:52.225Z"
      },
      {
        "duration": 778,
        "start_time": "2021-06-22T10:36:54.158Z"
      },
      {
        "duration": 33,
        "start_time": "2021-06-22T10:36:54.939Z"
      },
      {
        "duration": 39,
        "start_time": "2021-06-22T10:36:54.975Z"
      },
      {
        "duration": 10,
        "start_time": "2021-06-22T10:36:56.418Z"
      },
      {
        "duration": 8,
        "start_time": "2021-06-22T10:36:57.417Z"
      },
      {
        "duration": 246891,
        "start_time": "2021-06-22T10:36:58.956Z"
      },
      {
        "duration": 70,
        "start_time": "2021-06-22T10:41:05.849Z"
      },
      {
        "duration": 8560,
        "start_time": "2021-06-22T10:41:05.922Z"
      },
      {
        "duration": 4,
        "start_time": "2021-06-22T10:41:14.484Z"
      },
      {
        "duration": 6,
        "start_time": "2021-06-22T10:44:08.836Z"
      },
      {
        "duration": 1876,
        "start_time": "2021-06-22T13:05:08.492Z"
      },
      {
        "duration": 762,
        "start_time": "2021-06-22T13:05:10.372Z"
      },
      {
        "duration": 26,
        "start_time": "2021-06-22T13:05:11.137Z"
      },
      {
        "duration": 32,
        "start_time": "2021-06-22T13:05:11.182Z"
      },
      {
        "duration": 9,
        "start_time": "2021-06-22T13:05:11.217Z"
      },
      {
        "duration": 8,
        "start_time": "2021-06-22T13:05:11.229Z"
      },
      {
        "duration": 209935,
        "start_time": "2021-06-22T13:05:11.239Z"
      },
      {
        "duration": 65,
        "start_time": "2021-06-22T13:08:41.176Z"
      },
      {
        "duration": 7530,
        "start_time": "2021-06-22T13:08:41.244Z"
      },
      {
        "duration": 8,
        "start_time": "2021-06-22T13:08:48.777Z"
      },
      {
        "duration": 8,
        "start_time": "2021-06-22T13:08:48.787Z"
      },
      {
        "duration": 14669,
        "start_time": "2021-06-22T13:08:48.798Z"
      },
      {
        "duration": 11004,
        "start_time": "2021-06-22T13:09:03.470Z"
      },
      {
        "duration": 1850,
        "start_time": "2021-06-22T14:47:12.789Z"
      },
      {
        "duration": 761,
        "start_time": "2021-06-22T14:47:14.641Z"
      },
      {
        "duration": 24,
        "start_time": "2021-06-22T14:47:15.406Z"
      },
      {
        "duration": 53,
        "start_time": "2021-06-22T14:47:15.433Z"
      },
      {
        "duration": 9,
        "start_time": "2021-06-22T14:47:15.488Z"
      },
      {
        "duration": 9,
        "start_time": "2021-06-22T14:47:15.499Z"
      },
      {
        "duration": 209658,
        "start_time": "2021-06-22T14:47:15.510Z"
      },
      {
        "duration": 77,
        "start_time": "2021-06-22T14:50:45.171Z"
      },
      {
        "duration": 7499,
        "start_time": "2021-06-22T14:50:45.250Z"
      },
      {
        "duration": 4,
        "start_time": "2021-06-22T14:50:52.751Z"
      },
      {
        "duration": 9,
        "start_time": "2021-06-22T14:50:52.757Z"
      },
      {
        "duration": 14902,
        "start_time": "2021-06-22T14:50:52.768Z"
      },
      {
        "duration": 11452,
        "start_time": "2021-06-22T14:51:07.672Z"
      },
      {
        "duration": 5245313,
        "start_time": "2021-06-22T14:51:19.126Z"
      },
      {
        "duration": 192759,
        "start_time": "2021-06-22T16:18:44.442Z"
      },
      {
        "duration": 11,
        "start_time": "2021-06-22T16:21:57.204Z"
      },
      {
        "duration": 1334,
        "start_time": "2021-06-23T07:42:04.753Z"
      },
      {
        "duration": 608,
        "start_time": "2021-06-23T07:42:06.203Z"
      },
      {
        "duration": 16,
        "start_time": "2021-06-23T07:42:06.957Z"
      },
      {
        "duration": 27,
        "start_time": "2021-06-23T07:42:07.685Z"
      },
      {
        "duration": 7,
        "start_time": "2021-06-23T07:42:08.756Z"
      },
      {
        "duration": 6,
        "start_time": "2021-06-23T07:42:09.780Z"
      },
      {
        "duration": 126961,
        "start_time": "2021-06-23T07:42:11.203Z"
      },
      {
        "duration": 68,
        "start_time": "2021-06-23T07:44:18.166Z"
      },
      {
        "duration": 4638,
        "start_time": "2021-06-23T07:44:18.236Z"
      },
      {
        "duration": 9,
        "start_time": "2021-06-23T07:44:22.876Z"
      },
      {
        "duration": 322,
        "start_time": "2021-06-23T07:45:32.117Z"
      },
      {
        "duration": 166,
        "start_time": "2021-06-23T07:46:12.789Z"
      },
      {
        "duration": 63291,
        "start_time": "2021-06-23T07:46:40.262Z"
      },
      {
        "duration": 887605,
        "start_time": "2021-06-23T07:49:55.615Z"
      }
    ],
    "kernelspec": {
      "display_name": "Python 3",
      "language": "python",
      "name": "python3"
    },
    "language_info": {
      "codemirror_mode": {
        "name": "ipython",
        "version": 3
      },
      "file_extension": ".py",
      "mimetype": "text/x-python",
      "name": "python",
      "nbconvert_exporter": "python",
      "pygments_lexer": "ipython3",
      "version": "3.7.8"
    },
    "toc": {
      "base_numbering": 1,
      "nav_menu": {},
      "number_sections": true,
      "sideBar": true,
      "skip_h1_title": true,
      "title_cell": "Содержание",
      "title_sidebar": "Contents",
      "toc_cell": true,
      "toc_position": {
        "height": "calc(100% - 180px)",
        "left": "10px",
        "top": "150px",
        "width": "302.391px"
      },
      "toc_section_display": true,
      "toc_window_display": false
    },
    "colab": {
      "name": "text_tf_idf_final.ipynb",
      "provenance": [],
      "include_colab_link": true
    }
  },
  "cells": [
    {
      "cell_type": "markdown",
      "metadata": {
        "id": "view-in-github",
        "colab_type": "text"
      },
      "source": [
        "<a href=\"https://colab.research.google.com/github/SiriosMEN/Data-science/blob/main/text_tf_idf/text_tf_idf.ipynb\" target=\"_parent\"><img src=\"https://colab.research.google.com/assets/colab-badge.svg\" alt=\"Open In Colab\"/></a>"
      ]
    },
    {
      "cell_type": "markdown",
      "metadata": {
        "toc": true,
        "id": "XAJ41iwWki73"
      },
      "source": [
        "<h1>Содержание<span class=\"tocSkip\"></span></h1>\n",
        "<div class=\"toc\"><ul class=\"toc-item\"><li><span><a href=\"#Подготовка\" data-toc-modified-id=\"Подготовка-1\"><span class=\"toc-item-num\">1&nbsp;&nbsp;</span>Подготовка</a></span><ul class=\"toc-item\"><li><span><a href=\"#Вывод\" data-toc-modified-id=\"Вывод-1.1\"><span class=\"toc-item-num\">1.1&nbsp;&nbsp;</span>Вывод</a></span></li></ul></li><li><span><a href=\"#Обучение\" data-toc-modified-id=\"Обучение-2\"><span class=\"toc-item-num\">2&nbsp;&nbsp;</span>Обучение</a></span></li><li><span><a href=\"#Выводы\" data-toc-modified-id=\"Выводы-3\"><span class=\"toc-item-num\">3&nbsp;&nbsp;</span>Выводы</a></span></li><li><span><a href=\"#Чек-лист-проверки\" data-toc-modified-id=\"Чек-лист-проверки-4\"><span class=\"toc-item-num\">4&nbsp;&nbsp;</span>Чек-лист проверки</a></span></li></ul></div>"
      ]
    },
    {
      "cell_type": "markdown",
      "metadata": {
        "id": "1b-gNP_6ki74"
      },
      "source": [
        "# Проект для «Викишоп»"
      ]
    },
    {
      "cell_type": "markdown",
      "metadata": {
        "id": "BMPif4fJki75"
      },
      "source": [
        "Интернет-магазин «Викишоп» запускает новый сервис. Теперь пользователи могут редактировать и дополнять описания товаров, как в вики-сообществах. То есть клиенты предлагают свои правки и комментируют изменения других. Магазину нужен инструмент, который будет искать токсичные комментарии и отправлять их на модерацию. \n",
        "\n",
        "Обучите модель классифицировать комментарии на позитивные и негативные. В вашем распоряжении набор данных с разметкой о токсичности правок.\n",
        "\n",
        "Постройте модель со значением метрики качества *F1* не меньше 0.75. \n",
        "\n",
        "**Инструкция по выполнению проекта**\n",
        "\n",
        "1. Загрузите и подготовьте данные.\n",
        "2. Обучите разные модели. \n",
        "3. Сделайте выводы.\n",
        "\n",
        "Для выполнения проекта применять *BERT* необязательно, но вы можете попробовать.\n",
        "\n",
        "**Описание данных**\n",
        "\n",
        "Данные находятся в файле `toxic_comments.csv`. Столбец *text* в нём содержит текст комментария, а *toxic* — целевой признак."
      ]
    },
    {
      "cell_type": "markdown",
      "metadata": {
        "id": "LhtKt3aRki75"
      },
      "source": [
        "## Подготовка"
      ]
    },
    {
      "cell_type": "markdown",
      "metadata": {
        "id": "FZK4UHHyki76"
      },
      "source": [
        "Загрузим и посмотрим на данные"
      ]
    },
    {
      "cell_type": "code",
      "metadata": {
        "id": "mKoRrFSjki76",
        "outputId": "00f46887-244a-4e4b-ed9c-cf4664a72b95"
      },
      "source": [
        "import pandas as pd\n",
        "import re\n",
        "import nltk\n",
        "from nltk.corpus import stopwords\n",
        "from nltk.stem import WordNetLemmatizer\n",
        "nltk.download('stopwords')\n",
        "nltk.download('wordnet')\n",
        "from sklearn.feature_extraction.text import TfidfVectorizer\n",
        "import numpy as np\n",
        "from sklearn.linear_model import LogisticRegression\n",
        "from sklearn.ensemble import RandomForestClassifier\n",
        "from lightgbm import LGBMClassifier\n",
        "from catboost import CatBoostRegressor,CatBoostClassifier,CatBoost\n",
        "from sklearn.model_selection import train_test_split\n",
        "from sklearn.metrics import f1_score\n",
        "from sklearn.metrics import classification_report"
      ],
      "execution_count": null,
      "outputs": [
        {
          "name": "stderr",
          "output_type": "stream",
          "text": [
            "[nltk_data] Downloading package stopwords to /home/jovyan/nltk_data...\n",
            "[nltk_data]   Package stopwords is already up-to-date!\n",
            "[nltk_data] Downloading package wordnet to /home/jovyan/nltk_data...\n",
            "[nltk_data]   Package wordnet is already up-to-date!\n"
          ]
        }
      ]
    },
    {
      "cell_type": "code",
      "metadata": {
        "id": "iB6UfCHTki79"
      },
      "source": [
        "data = pd.read_csv('/datasets/toxic_comments.csv')"
      ],
      "execution_count": null,
      "outputs": []
    },
    {
      "cell_type": "code",
      "metadata": {
        "scrolled": true,
        "id": "Ng12tbqOki79",
        "outputId": "ab837718-9b0e-482c-e1f5-90f6cb532930"
      },
      "source": [
        "data"
      ],
      "execution_count": null,
      "outputs": [
        {
          "data": {
            "text/html": [
              "<div>\n",
              "<style scoped>\n",
              "    .dataframe tbody tr th:only-of-type {\n",
              "        vertical-align: middle;\n",
              "    }\n",
              "\n",
              "    .dataframe tbody tr th {\n",
              "        vertical-align: top;\n",
              "    }\n",
              "\n",
              "    .dataframe thead th {\n",
              "        text-align: right;\n",
              "    }\n",
              "</style>\n",
              "<table border=\"1\" class=\"dataframe\">\n",
              "  <thead>\n",
              "    <tr style=\"text-align: right;\">\n",
              "      <th></th>\n",
              "      <th>text</th>\n",
              "      <th>toxic</th>\n",
              "    </tr>\n",
              "  </thead>\n",
              "  <tbody>\n",
              "    <tr>\n",
              "      <td>0</td>\n",
              "      <td>Explanation\\nWhy the edits made under my usern...</td>\n",
              "      <td>0</td>\n",
              "    </tr>\n",
              "    <tr>\n",
              "      <td>1</td>\n",
              "      <td>D'aww! He matches this background colour I'm s...</td>\n",
              "      <td>0</td>\n",
              "    </tr>\n",
              "    <tr>\n",
              "      <td>2</td>\n",
              "      <td>Hey man, I'm really not trying to edit war. It...</td>\n",
              "      <td>0</td>\n",
              "    </tr>\n",
              "    <tr>\n",
              "      <td>3</td>\n",
              "      <td>\"\\nMore\\nI can't make any real suggestions on ...</td>\n",
              "      <td>0</td>\n",
              "    </tr>\n",
              "    <tr>\n",
              "      <td>4</td>\n",
              "      <td>You, sir, are my hero. Any chance you remember...</td>\n",
              "      <td>0</td>\n",
              "    </tr>\n",
              "    <tr>\n",
              "      <td>...</td>\n",
              "      <td>...</td>\n",
              "      <td>...</td>\n",
              "    </tr>\n",
              "    <tr>\n",
              "      <td>159566</td>\n",
              "      <td>\":::::And for the second time of asking, when ...</td>\n",
              "      <td>0</td>\n",
              "    </tr>\n",
              "    <tr>\n",
              "      <td>159567</td>\n",
              "      <td>You should be ashamed of yourself \\n\\nThat is ...</td>\n",
              "      <td>0</td>\n",
              "    </tr>\n",
              "    <tr>\n",
              "      <td>159568</td>\n",
              "      <td>Spitzer \\n\\nUmm, theres no actual article for ...</td>\n",
              "      <td>0</td>\n",
              "    </tr>\n",
              "    <tr>\n",
              "      <td>159569</td>\n",
              "      <td>And it looks like it was actually you who put ...</td>\n",
              "      <td>0</td>\n",
              "    </tr>\n",
              "    <tr>\n",
              "      <td>159570</td>\n",
              "      <td>\"\\nAnd ... I really don't think you understand...</td>\n",
              "      <td>0</td>\n",
              "    </tr>\n",
              "  </tbody>\n",
              "</table>\n",
              "<p>159571 rows × 2 columns</p>\n",
              "</div>"
            ],
            "text/plain": [
              "                                                     text  toxic\n",
              "0       Explanation\\nWhy the edits made under my usern...      0\n",
              "1       D'aww! He matches this background colour I'm s...      0\n",
              "2       Hey man, I'm really not trying to edit war. It...      0\n",
              "3       \"\\nMore\\nI can't make any real suggestions on ...      0\n",
              "4       You, sir, are my hero. Any chance you remember...      0\n",
              "...                                                   ...    ...\n",
              "159566  \":::::And for the second time of asking, when ...      0\n",
              "159567  You should be ashamed of yourself \\n\\nThat is ...      0\n",
              "159568  Spitzer \\n\\nUmm, theres no actual article for ...      0\n",
              "159569  And it looks like it was actually you who put ...      0\n",
              "159570  \"\\nAnd ... I really don't think you understand...      0\n",
              "\n",
              "[159571 rows x 2 columns]"
            ]
          },
          "execution_count": 3,
          "metadata": {},
          "output_type": "execute_result"
        }
      ]
    },
    {
      "cell_type": "code",
      "metadata": {
        "scrolled": true,
        "id": "a_eZLLDqki7-",
        "outputId": "f78c5017-2f75-4e5a-bfb1-707d896e2906"
      },
      "source": [
        "data.info()"
      ],
      "execution_count": null,
      "outputs": [
        {
          "name": "stdout",
          "output_type": "stream",
          "text": [
            "<class 'pandas.core.frame.DataFrame'>\n",
            "RangeIndex: 159571 entries, 0 to 159570\n",
            "Data columns (total 2 columns):\n",
            "text     159571 non-null object\n",
            "toxic    159571 non-null int64\n",
            "dtypes: int64(1), object(1)\n",
            "memory usage: 2.4+ MB\n"
          ]
        }
      ]
    },
    {
      "cell_type": "markdown",
      "metadata": {
        "id": "2j82MVTcki7-"
      },
      "source": [
        "Пропуски отсутствуют, все значения заполнены. Целевой признак представлен целым числом, текст - строкой"
      ]
    },
    {
      "cell_type": "markdown",
      "metadata": {
        "id": "Xvr7vg29ki7_"
      },
      "source": [
        "Проверим распределение классов в целевом признаке"
      ]
    },
    {
      "cell_type": "code",
      "metadata": {
        "scrolled": true,
        "id": "3tcGEYE1ki7_",
        "outputId": "f4c2c330-d8c4-4f3e-c7ec-e1e35d204f00"
      },
      "source": [
        "data['toxic'].value_counts()"
      ],
      "execution_count": null,
      "outputs": [
        {
          "data": {
            "text/plain": [
              "0    143346\n",
              "1     16225\n",
              "Name: toxic, dtype: int64"
            ]
          },
          "execution_count": 5,
          "metadata": {},
          "output_type": "execute_result"
        }
      ]
    },
    {
      "cell_type": "markdown",
      "metadata": {
        "id": "LQjL7EQmki8A"
      },
      "source": [
        "Классы распределены неравномерно, не сбалансированно, необходимо это учитывать при расчете метрики F1."
      ]
    },
    {
      "cell_type": "markdown",
      "metadata": {
        "id": "rNMSue54ki8A"
      },
      "source": [
        "Напишем функцию для подготовки корпуса текстов к векторизации:"
      ]
    },
    {
      "cell_type": "code",
      "metadata": {
        "id": "wtXAUAJRki8A"
      },
      "source": [
        "lemmatizer = WordNetLemmatizer()\n",
        "stop_words = set(stopwords.words(\"english\"))\n",
        "def lemmatize(text):\n",
        "    # Преобразование текста в список слов\n",
        "    text_list = nltk.word_tokenize(text)\n",
        "    # Приведение каждого слова в списке к прописному написанию, лемматизация\n",
        "    lemm_text=[]\n",
        "    for word in text_list:\n",
        "        lemm_text.append(lemmatizer.lemmatize(word.lower()))\n",
        "    # очистка от стоп-слов\n",
        "    lemm_sw_text = [w for w in lemm_text if w not in stop_words]\n",
        "    # очистка от посторонних символов\n",
        "    text_clear = re.sub(r'[^a-zA-Z]',' ',\" \".join(lemm_sw_text))\n",
        "    # удаление лишних пробелов после очистки\n",
        "    text_split = text_clear.split()\n",
        "    # повторная очистка от стоп слов\n",
        "    lemm_sw_text2 = [w for w in text_split if w not in stop_words]\n",
        "    # соединение в единый текст\n",
        "    return \" \".join(lemm_sw_text2)"
      ],
      "execution_count": null,
      "outputs": []
    },
    {
      "cell_type": "markdown",
      "metadata": {
        "id": "CzBCYQLCki8B"
      },
      "source": [
        "Создадим новый признак - очищенный и лемматизированный текст:"
      ]
    },
    {
      "cell_type": "code",
      "metadata": {
        "id": "wqtLpqLfki8C"
      },
      "source": [
        "data['lemm_clear_text'] = data['text'].apply(lemmatize)"
      ],
      "execution_count": null,
      "outputs": []
    },
    {
      "cell_type": "markdown",
      "metadata": {
        "id": "HePxf-Luki8C"
      },
      "source": [
        "Разделим данные на обучающую и тестовую выборки"
      ]
    },
    {
      "cell_type": "code",
      "metadata": {
        "id": "BB3YJjdpki8D"
      },
      "source": [
        "train, test = train_test_split(data,test_size=0.2,random_state=12345)"
      ],
      "execution_count": null,
      "outputs": []
    },
    {
      "cell_type": "markdown",
      "metadata": {
        "id": "DOxGDrteki8D"
      },
      "source": [
        "Выполним векторизацию текстов с помощью TF-IDF, сразу сохраним полученные вектора в обучающие признаки:"
      ]
    },
    {
      "cell_type": "code",
      "metadata": {
        "id": "8RSn8skQki8D"
      },
      "source": [
        "count_tfidf = TfidfVectorizer()\n",
        "features_train = count_tfidf.fit_transform(train['lemm_clear_text'])\n",
        "features_test = count_tfidf.transform(test['lemm_clear_text'])"
      ],
      "execution_count": null,
      "outputs": []
    },
    {
      "cell_type": "markdown",
      "metadata": {
        "id": "acRsHO1iki8E"
      },
      "source": [
        "Выделим целевой признак в обучающей и тестовой выборках:"
      ]
    },
    {
      "cell_type": "code",
      "metadata": {
        "id": "8msFjCPgki8E"
      },
      "source": [
        "target_train = train['toxic']\n",
        "target_test = test['toxic']"
      ],
      "execution_count": null,
      "outputs": []
    },
    {
      "cell_type": "markdown",
      "metadata": {
        "id": "tTG1ukOkki8F"
      },
      "source": [
        "### Вывод"
      ]
    },
    {
      "cell_type": "markdown",
      "metadata": {
        "id": "MSZVFRRNki8F"
      },
      "source": [
        "Выполнена загрузка данных. Выполнена очистка текста от посторонних символов, приведение текста к нижнему регистру, лемматизация текста. Выполнена векторизация текстов с помощью TF-IDF."
      ]
    },
    {
      "cell_type": "markdown",
      "metadata": {
        "id": "lP1l7mIVki8F"
      },
      "source": [
        "## Обучение"
      ]
    },
    {
      "cell_type": "markdown",
      "metadata": {
        "id": "vvJ1tQDOki8F"
      },
      "source": [
        "Напишем функцию для обучения моделей и расчета метрики F1:"
      ]
    },
    {
      "cell_type": "code",
      "metadata": {
        "id": "zG5OERYyki8G"
      },
      "source": [
        "def modeling(model):\n",
        "    model.fit(features_train,target_train)\n",
        "    prediction_train = model.predict(features_train)\n",
        "    f1_train = f1_score(target_train,prediction_train)#,average='weighted',labels=np.unique(prediction_train))\n",
        "    print('Метрика F1 на трейне',f1_train)\n",
        "    prediction_test = model.predict(features_test)\n",
        "    f1_test = f1_score(target_test,prediction_test)#,average='weighted',labels=np.unique(prediction_test))\n",
        "    report = classification_report(target_test,prediction_test)\n",
        "    print('Метрика F1 на тесте',f1_test)\n",
        "    print(report)\n",
        "    return f1_test"
      ],
      "execution_count": null,
      "outputs": []
    },
    {
      "cell_type": "markdown",
      "metadata": {
        "id": "NLjN9lsbki8I"
      },
      "source": [
        "Обучим модель логистической регрессии:"
      ]
    },
    {
      "cell_type": "code",
      "metadata": {
        "scrolled": false,
        "id": "7x_3qLfZki8I",
        "outputId": "e91e0647-7353-4712-bee0-ab3a42443c52"
      },
      "source": [
        "f1_test_LR = modeling(LogisticRegression(solver='liblinear',class_weight='balanced',max_iter=300,random_state=12345))"
      ],
      "execution_count": null,
      "outputs": [
        {
          "name": "stdout",
          "output_type": "stream",
          "text": [
            "Метрика F1 на трейне 0.8306323060573858\n",
            "Метрика F1 на тесте 0.7476836309923458\n",
            "              precision    recall  f1-score   support\n",
            "\n",
            "           0       0.98      0.95      0.97     28676\n",
            "           1       0.66      0.86      0.75      3239\n",
            "\n",
            "    accuracy                           0.94     31915\n",
            "   macro avg       0.82      0.90      0.86     31915\n",
            "weighted avg       0.95      0.94      0.94     31915\n",
            "\n"
          ]
        }
      ]
    },
    {
      "cell_type": "markdown",
      "metadata": {
        "id": "Pex1Bxiwki8K"
      },
      "source": [
        "Метрика F1 на классе \"0\" почти 100%, на классе \"1\" составляет 0,75, что соответствует требованиям задания."
      ]
    },
    {
      "cell_type": "markdown",
      "metadata": {
        "id": "XUp2VD3Gki8K"
      },
      "source": [
        "Обучим модель на алгоритме случайный лес:"
      ]
    },
    {
      "cell_type": "code",
      "metadata": {
        "scrolled": true,
        "id": "o0qdlAN7ki8L",
        "outputId": "f3ce653d-3d74-4d0e-e4e2-aad57fd15eb1"
      },
      "source": [
        "f1_test_RFR = modeling(RandomForestClassifier(n_jobs=-1,n_estimators=100,max_depth=12,random_state=12345))"
      ],
      "execution_count": null,
      "outputs": [
        {
          "name": "stderr",
          "output_type": "stream",
          "text": [
            "/opt/conda/lib/python3.7/site-packages/sklearn/metrics/classification.py:1437: UndefinedMetricWarning: F-score is ill-defined and being set to 0.0 due to no predicted samples.\n",
            "  'precision', 'predicted', average, warn_for)\n"
          ]
        },
        {
          "name": "stdout",
          "output_type": "stream",
          "text": [
            "Метрика F1 на трейне 0.0\n",
            "Метрика F1 на тесте 0.0\n",
            "              precision    recall  f1-score   support\n",
            "\n",
            "           0       0.90      1.00      0.95     28676\n",
            "           1       0.00      0.00      0.00      3239\n",
            "\n",
            "    accuracy                           0.90     31915\n",
            "   macro avg       0.45      0.50      0.47     31915\n",
            "weighted avg       0.81      0.90      0.85     31915\n",
            "\n"
          ]
        },
        {
          "name": "stderr",
          "output_type": "stream",
          "text": [
            "/opt/conda/lib/python3.7/site-packages/sklearn/metrics/classification.py:1437: UndefinedMetricWarning: Precision and F-score are ill-defined and being set to 0.0 in labels with no predicted samples.\n",
            "  'precision', 'predicted', average, warn_for)\n"
          ]
        }
      ]
    },
    {
      "cell_type": "markdown",
      "metadata": {
        "id": "jNJHSLlmki8L"
      },
      "source": [
        "У модели \"случайный лес\" метрика на класс \"1\" составляет 0, так как метрика Recall составляет 0, при этом метрика Precision составляет 100%, что возможно свидетельствует о переобучении модели."
      ]
    },
    {
      "cell_type": "markdown",
      "metadata": {
        "id": "22-RL5PJki8N"
      },
      "source": [
        "Обучим модель на алгоритме CatBoost:"
      ]
    },
    {
      "cell_type": "code",
      "metadata": {
        "id": "Rc-j4Mbcki8N",
        "outputId": "827ee825-8776-4ef1-9599-8c490886e5c4"
      },
      "source": [
        "f1_test_CB = modeling(CatBoostClassifier(verbose=10))"
      ],
      "execution_count": null,
      "outputs": [
        {
          "name": "stdout",
          "output_type": "stream",
          "text": [
            "Learning rate set to 0.06609\n",
            "0:\tlearn: 0.6222009\ttotal: 6.08s\tremaining: 1h 41m 11s\n",
            "10:\tlearn: 0.3138801\ttotal: 56s\tremaining: 1h 23m 52s\n",
            "20:\tlearn: 0.2464795\ttotal: 1m 46s\tremaining: 1h 22m 38s\n",
            "30:\tlearn: 0.2244417\ttotal: 2m 36s\tremaining: 1h 21m 39s\n",
            "40:\tlearn: 0.2132715\ttotal: 3m 27s\tremaining: 1h 20m 42s\n",
            "50:\tlearn: 0.2057052\ttotal: 4m 17s\tremaining: 1h 19m 57s\n",
            "60:\tlearn: 0.1992847\ttotal: 5m 8s\tremaining: 1h 19m 13s\n",
            "70:\tlearn: 0.1943307\ttotal: 5m 59s\tremaining: 1h 18m 27s\n",
            "80:\tlearn: 0.1896663\ttotal: 6m 50s\tremaining: 1h 17m 41s\n",
            "90:\tlearn: 0.1859801\ttotal: 7m 41s\tremaining: 1h 16m 51s\n",
            "100:\tlearn: 0.1825724\ttotal: 8m 32s\tremaining: 1h 16m 1s\n",
            "110:\tlearn: 0.1793229\ttotal: 9m 23s\tremaining: 1h 15m 14s\n",
            "120:\tlearn: 0.1766145\ttotal: 10m 14s\tremaining: 1h 14m 24s\n",
            "130:\tlearn: 0.1739355\ttotal: 11m 5s\tremaining: 1h 13m 37s\n",
            "140:\tlearn: 0.1718005\ttotal: 11m 56s\tremaining: 1h 12m 47s\n",
            "150:\tlearn: 0.1696751\ttotal: 12m 47s\tremaining: 1h 11m 55s\n",
            "160:\tlearn: 0.1675547\ttotal: 13m 38s\tremaining: 1h 11m 7s\n",
            "170:\tlearn: 0.1655640\ttotal: 14m 29s\tremaining: 1h 10m 17s\n",
            "180:\tlearn: 0.1635983\ttotal: 15m 21s\tremaining: 1h 9m 27s\n",
            "190:\tlearn: 0.1619140\ttotal: 16m 12s\tremaining: 1h 8m 37s\n",
            "200:\tlearn: 0.1601416\ttotal: 17m 3s\tremaining: 1h 7m 49s\n",
            "210:\tlearn: 0.1586186\ttotal: 17m 54s\tremaining: 1h 6m 58s\n",
            "220:\tlearn: 0.1571167\ttotal: 18m 45s\tremaining: 1h 6m 7s\n",
            "230:\tlearn: 0.1557028\ttotal: 19m 36s\tremaining: 1h 5m 16s\n",
            "240:\tlearn: 0.1543816\ttotal: 20m 27s\tremaining: 1h 4m 25s\n",
            "250:\tlearn: 0.1531597\ttotal: 21m 18s\tremaining: 1h 3m 34s\n",
            "260:\tlearn: 0.1515520\ttotal: 22m 9s\tremaining: 1h 2m 45s\n",
            "270:\tlearn: 0.1504222\ttotal: 23m 1s\tremaining: 1h 1m 55s\n",
            "280:\tlearn: 0.1490433\ttotal: 23m 52s\tremaining: 1h 1m 5s\n",
            "290:\tlearn: 0.1478286\ttotal: 24m 44s\tremaining: 1h 15s\n",
            "300:\tlearn: 0.1466397\ttotal: 25m 35s\tremaining: 59m 24s\n",
            "310:\tlearn: 0.1455280\ttotal: 26m 26s\tremaining: 58m 33s\n",
            "320:\tlearn: 0.1444824\ttotal: 27m 16s\tremaining: 57m 42s\n",
            "330:\tlearn: 0.1436050\ttotal: 28m 7s\tremaining: 56m 51s\n",
            "340:\tlearn: 0.1425825\ttotal: 28m 59s\tremaining: 56m 1s\n",
            "350:\tlearn: 0.1417464\ttotal: 29m 50s\tremaining: 55m 10s\n",
            "360:\tlearn: 0.1408359\ttotal: 30m 41s\tremaining: 54m 19s\n",
            "370:\tlearn: 0.1400976\ttotal: 31m 32s\tremaining: 53m 28s\n",
            "380:\tlearn: 0.1391907\ttotal: 32m 23s\tremaining: 52m 37s\n",
            "390:\tlearn: 0.1383942\ttotal: 33m 14s\tremaining: 51m 46s\n",
            "400:\tlearn: 0.1376432\ttotal: 34m 5s\tremaining: 50m 55s\n",
            "410:\tlearn: 0.1368965\ttotal: 34m 57s\tremaining: 50m 5s\n",
            "420:\tlearn: 0.1361446\ttotal: 35m 48s\tremaining: 49m 14s\n",
            "430:\tlearn: 0.1354200\ttotal: 36m 39s\tremaining: 48m 23s\n",
            "440:\tlearn: 0.1347573\ttotal: 37m 30s\tremaining: 47m 32s\n",
            "450:\tlearn: 0.1341803\ttotal: 38m 21s\tremaining: 46m 41s\n",
            "460:\tlearn: 0.1334469\ttotal: 39m 12s\tremaining: 45m 50s\n",
            "470:\tlearn: 0.1329184\ttotal: 40m 3s\tremaining: 44m 59s\n",
            "480:\tlearn: 0.1322880\ttotal: 40m 54s\tremaining: 44m 8s\n",
            "490:\tlearn: 0.1317272\ttotal: 41m 45s\tremaining: 43m 17s\n",
            "500:\tlearn: 0.1311277\ttotal: 42m 36s\tremaining: 42m 26s\n",
            "510:\tlearn: 0.1305479\ttotal: 43m 28s\tremaining: 41m 35s\n",
            "520:\tlearn: 0.1298853\ttotal: 44m 19s\tremaining: 40m 45s\n",
            "530:\tlearn: 0.1293459\ttotal: 45m 11s\tremaining: 39m 54s\n",
            "540:\tlearn: 0.1286550\ttotal: 46m 3s\tremaining: 39m 4s\n",
            "550:\tlearn: 0.1282217\ttotal: 46m 55s\tremaining: 38m 14s\n",
            "560:\tlearn: 0.1276813\ttotal: 47m 46s\tremaining: 37m 23s\n",
            "570:\tlearn: 0.1271924\ttotal: 48m 38s\tremaining: 36m 32s\n",
            "580:\tlearn: 0.1267476\ttotal: 49m 30s\tremaining: 35m 41s\n",
            "590:\tlearn: 0.1262206\ttotal: 50m 22s\tremaining: 34m 51s\n",
            "600:\tlearn: 0.1257077\ttotal: 51m 14s\tremaining: 34m 1s\n",
            "610:\tlearn: 0.1252123\ttotal: 52m 6s\tremaining: 33m 10s\n",
            "620:\tlearn: 0.1246575\ttotal: 52m 58s\tremaining: 32m 19s\n",
            "630:\tlearn: 0.1242386\ttotal: 53m 49s\tremaining: 31m 28s\n",
            "640:\tlearn: 0.1237033\ttotal: 54m 41s\tremaining: 30m 37s\n",
            "650:\tlearn: 0.1232984\ttotal: 55m 33s\tremaining: 29m 46s\n",
            "660:\tlearn: 0.1229346\ttotal: 56m 25s\tremaining: 28m 56s\n",
            "670:\tlearn: 0.1223608\ttotal: 57m 17s\tremaining: 28m 5s\n",
            "680:\tlearn: 0.1220080\ttotal: 58m 8s\tremaining: 27m 14s\n",
            "690:\tlearn: 0.1215856\ttotal: 59m\tremaining: 26m 23s\n",
            "700:\tlearn: 0.1212619\ttotal: 59m 52s\tremaining: 25m 32s\n",
            "710:\tlearn: 0.1209423\ttotal: 1h 45s\tremaining: 24m 41s\n",
            "720:\tlearn: 0.1205388\ttotal: 1h 1m 37s\tremaining: 23m 50s\n",
            "730:\tlearn: 0.1201904\ttotal: 1h 2m 28s\tremaining: 22m 59s\n",
            "740:\tlearn: 0.1198691\ttotal: 1h 3m 20s\tremaining: 22m 8s\n",
            "750:\tlearn: 0.1195380\ttotal: 1h 4m 13s\tremaining: 21m 17s\n",
            "760:\tlearn: 0.1191604\ttotal: 1h 5m 4s\tremaining: 20m 26s\n",
            "770:\tlearn: 0.1188651\ttotal: 1h 5m 56s\tremaining: 19m 35s\n",
            "780:\tlearn: 0.1184538\ttotal: 1h 6m 48s\tremaining: 18m 43s\n",
            "790:\tlearn: 0.1181109\ttotal: 1h 7m 39s\tremaining: 17m 52s\n",
            "800:\tlearn: 0.1177923\ttotal: 1h 8m 31s\tremaining: 17m 1s\n",
            "810:\tlearn: 0.1174355\ttotal: 1h 9m 23s\tremaining: 16m 10s\n",
            "820:\tlearn: 0.1170987\ttotal: 1h 10m 15s\tremaining: 15m 19s\n",
            "830:\tlearn: 0.1167715\ttotal: 1h 11m 7s\tremaining: 14m 27s\n",
            "840:\tlearn: 0.1165551\ttotal: 1h 11m 58s\tremaining: 13m 36s\n",
            "850:\tlearn: 0.1161420\ttotal: 1h 12m 50s\tremaining: 12m 45s\n",
            "860:\tlearn: 0.1158902\ttotal: 1h 13m 42s\tremaining: 11m 53s\n",
            "870:\tlearn: 0.1155720\ttotal: 1h 14m 33s\tremaining: 11m 2s\n",
            "880:\tlearn: 0.1151667\ttotal: 1h 15m 25s\tremaining: 10m 11s\n",
            "890:\tlearn: 0.1147914\ttotal: 1h 16m 17s\tremaining: 9m 20s\n",
            "900:\tlearn: 0.1144798\ttotal: 1h 17m 9s\tremaining: 8m 28s\n",
            "910:\tlearn: 0.1141820\ttotal: 1h 18m 1s\tremaining: 7m 37s\n",
            "920:\tlearn: 0.1139372\ttotal: 1h 18m 52s\tremaining: 6m 45s\n",
            "930:\tlearn: 0.1136970\ttotal: 1h 19m 43s\tremaining: 5m 54s\n",
            "940:\tlearn: 0.1133558\ttotal: 1h 20m 35s\tremaining: 5m 3s\n",
            "950:\tlearn: 0.1130327\ttotal: 1h 21m 27s\tremaining: 4m 11s\n",
            "960:\tlearn: 0.1126847\ttotal: 1h 22m 18s\tremaining: 3m 20s\n",
            "970:\tlearn: 0.1124039\ttotal: 1h 23m 9s\tremaining: 2m 29s\n",
            "980:\tlearn: 0.1121804\ttotal: 1h 24m\tremaining: 1m 37s\n",
            "990:\tlearn: 0.1118781\ttotal: 1h 24m 51s\tremaining: 46.2s\n",
            "999:\tlearn: 0.1116276\ttotal: 1h 25m 38s\tremaining: 0us\n",
            "Метрика F1 на трейне 0.7855536565620221\n",
            "Метрика F1 на тесте 0.7486457204767064\n",
            "              precision    recall  f1-score   support\n",
            "\n",
            "           0       0.96      0.99      0.98     28676\n",
            "           1       0.90      0.64      0.75      3239\n",
            "\n",
            "    accuracy                           0.96     31915\n",
            "   macro avg       0.93      0.82      0.86     31915\n",
            "weighted avg       0.95      0.96      0.95     31915\n",
            "\n"
          ]
        }
      ]
    },
    {
      "cell_type": "markdown",
      "metadata": {
        "id": "-ez_g8cMki8O"
      },
      "source": [
        "Метрика F1 на классе \"1\" составляет 0,75, что соответствует требованиям задания."
      ]
    },
    {
      "cell_type": "markdown",
      "metadata": {
        "id": "3q6wBj8gki8O"
      },
      "source": [
        "Обучим модель на алгоритме LGBM:"
      ]
    },
    {
      "cell_type": "code",
      "metadata": {
        "id": "yW_mdho_ki8O",
        "outputId": "af599585-2a17-49fd-ca53-c540470faea5"
      },
      "source": [
        "f1_test_LGBM = modeling(LGBMClassifier(learning_rate=0.25,max_depth=20))"
      ],
      "execution_count": null,
      "outputs": [
        {
          "name": "stdout",
          "output_type": "stream",
          "text": [
            "Метрика F1 на трейне 0.8332396072154692\n",
            "Метрика F1 на тесте 0.7644895815093679\n",
            "              precision    recall  f1-score   support\n",
            "\n",
            "           0       0.96      0.99      0.98     28676\n",
            "           1       0.88      0.67      0.76      3239\n",
            "\n",
            "    accuracy                           0.96     31915\n",
            "   macro avg       0.92      0.83      0.87     31915\n",
            "weighted avg       0.96      0.96      0.96     31915\n",
            "\n"
          ]
        }
      ]
    },
    {
      "cell_type": "markdown",
      "metadata": {
        "id": "MGbbGMMHki8O"
      },
      "source": [
        "Метрика F1 на классе \"1\" составляет 0,76, что даже превышает требования ТЗ."
      ]
    },
    {
      "cell_type": "markdown",
      "metadata": {
        "id": "MqzD2kQXki8P"
      },
      "source": [
        "## Выводы"
      ]
    },
    {
      "cell_type": "code",
      "metadata": {
        "scrolled": true,
        "id": "hmvWL6miki8P",
        "outputId": "0ad0fa0a-3057-4436-bb60-7bfa85ac92e9"
      },
      "source": [
        "results = pd.DataFrame({'Название алгоритма':['Logistic Regression','Random Forest Regressor','CatBoost','Ligth Gradient Boost Machine'],'F1':[f1_test_LR,f1_test_RFR,f1_test_CB,f1_test_LGBM]})\n",
        "results"
      ],
      "execution_count": null,
      "outputs": [
        {
          "data": {
            "text/html": [
              "<div>\n",
              "<style scoped>\n",
              "    .dataframe tbody tr th:only-of-type {\n",
              "        vertical-align: middle;\n",
              "    }\n",
              "\n",
              "    .dataframe tbody tr th {\n",
              "        vertical-align: top;\n",
              "    }\n",
              "\n",
              "    .dataframe thead th {\n",
              "        text-align: right;\n",
              "    }\n",
              "</style>\n",
              "<table border=\"1\" class=\"dataframe\">\n",
              "  <thead>\n",
              "    <tr style=\"text-align: right;\">\n",
              "      <th></th>\n",
              "      <th>Название алгоритма</th>\n",
              "      <th>F1</th>\n",
              "    </tr>\n",
              "  </thead>\n",
              "  <tbody>\n",
              "    <tr>\n",
              "      <td>0</td>\n",
              "      <td>Logistic Regression</td>\n",
              "      <td>0.747684</td>\n",
              "    </tr>\n",
              "    <tr>\n",
              "      <td>1</td>\n",
              "      <td>Random Forest Regressor</td>\n",
              "      <td>0.000000</td>\n",
              "    </tr>\n",
              "    <tr>\n",
              "      <td>2</td>\n",
              "      <td>CatBoost</td>\n",
              "      <td>0.748646</td>\n",
              "    </tr>\n",
              "    <tr>\n",
              "      <td>3</td>\n",
              "      <td>Ligth Gradient Boost Machine</td>\n",
              "      <td>0.764490</td>\n",
              "    </tr>\n",
              "  </tbody>\n",
              "</table>\n",
              "</div>"
            ],
            "text/plain": [
              "             Название алгоритма        F1\n",
              "0           Logistic Regression  0.747684\n",
              "1       Random Forest Regressor  0.000000\n",
              "2                      CatBoost  0.748646\n",
              "3  Ligth Gradient Boost Machine  0.764490"
            ]
          },
          "execution_count": 16,
          "metadata": {},
          "output_type": "execute_result"
        }
      ]
    },
    {
      "cell_type": "markdown",
      "metadata": {
        "id": "u0Ipx-wQki8Q"
      },
      "source": [
        "Обучены модели машинного обучения на алгоритмах Логистической регрессии, Случайного леса, CatBoost и LGBM. Наилучшие результаты показала модель LGBM - общая метрика F1 на тесте составила 0,955,  при этом предсказания на классе \"1\" имеют метрику F1 = 0,76."
      ]
    },
    {
      "cell_type": "markdown",
      "metadata": {
        "id": "5eaZRywRki8S"
      },
      "source": [
        "## Чек-лист проверки"
      ]
    },
    {
      "cell_type": "markdown",
      "metadata": {
        "id": "kNfzQFWKki8S"
      },
      "source": [
        "- [x]  Jupyter Notebook открыт\n",
        "- [x]  Весь код выполняется без ошибок\n",
        "- [x]  Ячейки с кодом расположены в порядке исполнения\n",
        "- [x]  Данные загружены и подготовлены\n",
        "- [x]  Модели обучены\n",
        "- [x]  Значение метрики *F1* не меньше 0.75\n",
        "- [x]  Выводы написаны"
      ]
    },
    {
      "cell_type": "code",
      "metadata": {
        "id": "HJIKaBxTki8T"
      },
      "source": [
        ""
      ],
      "execution_count": null,
      "outputs": []
    }
  ]
}